{
  "nbformat": 4,
  "nbformat_minor": 0,
  "metadata": {
    "colab": {
      "name": "3. Sentiment analysis with VADER, Multinomial Naive Bayes, Decision Tree, Random Forest Classifier, KNN, Gradient Boosting, XGBoost and SVM.ipynb",
      "provenance": []
    },
    "kernelspec": {
      "name": "python3",
      "display_name": "Python 3"
    }
  },
  "cells": [
    {
      "cell_type": "markdown",
      "metadata": {
        "id": "qKKnd648a3Bu",
        "colab_type": "text"
      },
      "source": [
        "*WebMD* Drug Reviews Dataset;\n",
        "Dataset of user reviews on various drugs;\n",
        "https://www.kaggle.com/rohanharode07/webmd-drug-reviews-dataset\n"
      ]
    },
    {
      "cell_type": "code",
      "metadata": {
        "id": "Bu0gu5rUIV1p",
        "colab_type": "code",
        "outputId": "f6ca4b83-5a10-4ebe-edea-91ca108712ef",
        "colab": {
          "base_uri": "https://localhost:8080/",
          "height": 33
        }
      },
      "source": [
        "from google.colab import drive\n",
        "drive.mount('/content/drive')"
      ],
      "execution_count": 0,
      "outputs": [
        {
          "output_type": "stream",
          "text": [
            "Drive already mounted at /content/drive; to attempt to forcibly remount, call drive.mount(\"/content/drive\", force_remount=True).\n"
          ],
          "name": "stdout"
        }
      ]
    },
    {
      "cell_type": "code",
      "metadata": {
        "id": "9x0OkQTrWCdL",
        "colab_type": "code",
        "colab": {}
      },
      "source": [
        "pd.set_option('max_colwidth', 500)"
      ],
      "execution_count": 0,
      "outputs": []
    },
    {
      "cell_type": "code",
      "metadata": {
        "id": "oNh8N_4OIcIt",
        "colab_type": "code",
        "outputId": "d94024ad-67ca-4912-d04d-af4b6f2f7684",
        "colab": {
          "base_uri": "https://localhost:8080/",
          "height": 131
        }
      },
      "source": [
        "# ALL imports\n",
        "import numpy as np\n",
        "import pandas as pd\n",
        "import matplotlib.pyplot as plt\n",
        "from matplotlib import style; style.use('ggplot')\n",
        "import nltk\n",
        "from nltk.sentiment.vader import SentimentIntensityAnalyzer\n",
        "import time\n",
        "from sklearn.feature_extraction.text import TfidfVectorizer\n",
        "from sklearn.metrics import confusion_matrix\n",
        "from sklearn.naive_bayes import MultinomialNB\n",
        "from sklearn.ensemble import RandomForestClassifier\n",
        "from bs4 import BeautifulSoup\n",
        "from nltk.corpus import stopwords\n",
        "from nltk.stem.snowball import SnowballStemmer\n",
        "nltk.download('punkt')\n",
        "import re\n",
        "nltk.download('stopwords')\n",
        "from sklearn.model_selection import train_test_split\n",
        "import seaborn as sns\n",
        "nltk.download('wordnet')"
      ],
      "execution_count": 0,
      "outputs": [
        {
          "output_type": "stream",
          "text": [
            "[nltk_data] Downloading package punkt to /root/nltk_data...\n",
            "[nltk_data]   Package punkt is already up-to-date!\n",
            "[nltk_data] Downloading package stopwords to /root/nltk_data...\n",
            "[nltk_data]   Package stopwords is already up-to-date!\n",
            "[nltk_data] Downloading package wordnet to /root/nltk_data...\n",
            "[nltk_data]   Package wordnet is already up-to-date!\n"
          ],
          "name": "stdout"
        },
        {
          "output_type": "execute_result",
          "data": {
            "text/plain": [
              "True"
            ]
          },
          "metadata": {
            "tags": []
          },
          "execution_count": 6
        }
      ]
    },
    {
      "cell_type": "code",
      "metadata": {
        "id": "bg98CdR_Ived",
        "colab_type": "code",
        "outputId": "33f59f84-e76c-454b-aa72-7e4d0490b94e",
        "colab": {
          "base_uri": "https://localhost:8080/",
          "height": 646
        }
      },
      "source": [
        "dataframe = pd.read_csv(\"/content/drive/My Drive/nlp project dataset/webmd.csv\")\n",
        "dataframe.columns = dataframe.columns.str.lower()\n",
        "dataframe.head()"
      ],
      "execution_count": 0,
      "outputs": [
        {
          "output_type": "execute_result",
          "data": {
            "text/html": [
              "<div>\n",
              "<style scoped>\n",
              "    .dataframe tbody tr th:only-of-type {\n",
              "        vertical-align: middle;\n",
              "    }\n",
              "\n",
              "    .dataframe tbody tr th {\n",
              "        vertical-align: top;\n",
              "    }\n",
              "\n",
              "    .dataframe thead th {\n",
              "        text-align: right;\n",
              "    }\n",
              "</style>\n",
              "<table border=\"1\" class=\"dataframe\">\n",
              "  <thead>\n",
              "    <tr style=\"text-align: right;\">\n",
              "      <th></th>\n",
              "      <th>age</th>\n",
              "      <th>condition</th>\n",
              "      <th>date</th>\n",
              "      <th>drug</th>\n",
              "      <th>drugid</th>\n",
              "      <th>easeofuse</th>\n",
              "      <th>effectiveness</th>\n",
              "      <th>reviews</th>\n",
              "      <th>satisfaction</th>\n",
              "      <th>sex</th>\n",
              "      <th>sides</th>\n",
              "      <th>usefulcount</th>\n",
              "    </tr>\n",
              "  </thead>\n",
              "  <tbody>\n",
              "    <tr>\n",
              "      <th>0</th>\n",
              "      <td>75 or over</td>\n",
              "      <td>Stuffy Nose</td>\n",
              "      <td>9/21/2014</td>\n",
              "      <td>25dph-7.5peh</td>\n",
              "      <td>146724</td>\n",
              "      <td>5</td>\n",
              "      <td>5</td>\n",
              "      <td>I'm a retired physician and of all the meds I have tried for my allergies (seasonal and not) - this one is the most effective for me.  When I first began using this drug some years ago - tiredness as a problem but is not currently.</td>\n",
              "      <td>5</td>\n",
              "      <td>Male</td>\n",
              "      <td>Drowsiness,  dizziness ,  dry mouth /nose/throat,  headache ,  upset stomach ,  constipation , or  trouble sleeping  may occur.</td>\n",
              "      <td>0</td>\n",
              "    </tr>\n",
              "    <tr>\n",
              "      <th>1</th>\n",
              "      <td>25-34</td>\n",
              "      <td>Cold Symptoms</td>\n",
              "      <td>1/13/2011</td>\n",
              "      <td>25dph-7.5peh</td>\n",
              "      <td>146724</td>\n",
              "      <td>5</td>\n",
              "      <td>5</td>\n",
              "      <td>cleared me right up even with my throat hurting it went away after taking the medicine</td>\n",
              "      <td>5</td>\n",
              "      <td>Female</td>\n",
              "      <td>Drowsiness,  dizziness ,  dry mouth /nose/throat,  headache ,  upset stomach ,  constipation , or  trouble sleeping  may occur.</td>\n",
              "      <td>1</td>\n",
              "    </tr>\n",
              "    <tr>\n",
              "      <th>2</th>\n",
              "      <td>65-74</td>\n",
              "      <td>Other</td>\n",
              "      <td>7/16/2012</td>\n",
              "      <td>warfarin (bulk) 100 % powder</td>\n",
              "      <td>144731</td>\n",
              "      <td>2</td>\n",
              "      <td>3</td>\n",
              "      <td>why did my PTINR go from a normal of 2.5 to over \\n100?</td>\n",
              "      <td>3</td>\n",
              "      <td>Female</td>\n",
              "      <td></td>\n",
              "      <td>0</td>\n",
              "    </tr>\n",
              "    <tr>\n",
              "      <th>3</th>\n",
              "      <td>75 or over</td>\n",
              "      <td>Other</td>\n",
              "      <td>9/23/2010</td>\n",
              "      <td>warfarin (bulk) 100 % powder</td>\n",
              "      <td>144731</td>\n",
              "      <td>2</td>\n",
              "      <td>2</td>\n",
              "      <td>FALLING AND DON'T REALISE IT</td>\n",
              "      <td>1</td>\n",
              "      <td>Female</td>\n",
              "      <td></td>\n",
              "      <td>0</td>\n",
              "    </tr>\n",
              "    <tr>\n",
              "      <th>4</th>\n",
              "      <td>35-44</td>\n",
              "      <td>Other</td>\n",
              "      <td>1/6/2009</td>\n",
              "      <td>warfarin (bulk) 100 % powder</td>\n",
              "      <td>144731</td>\n",
              "      <td>1</td>\n",
              "      <td>1</td>\n",
              "      <td>My grandfather was prescribed this medication (Coumadin) to assist in blood thinning due to a heart and thyroid condition.  His primary doctor was aware that he was on an aspirin regiment and still prescribed this medicine, it caused his blood to thin out to much and he ended up internally bleeding to death.  If you are going to take this medicine please ask your doctors about possible side effects or drug interactions.</td>\n",
              "      <td>1</td>\n",
              "      <td>Male</td>\n",
              "      <td></td>\n",
              "      <td>1</td>\n",
              "    </tr>\n",
              "  </tbody>\n",
              "</table>\n",
              "</div>"
            ],
            "text/plain": [
              "          age  ... usefulcount\n",
              "0  75 or over  ...           0\n",
              "1       25-34  ...           1\n",
              "2       65-74  ...           0\n",
              "3  75 or over  ...           0\n",
              "4       35-44  ...           1\n",
              "\n",
              "[5 rows x 12 columns]"
            ]
          },
          "metadata": {
            "tags": []
          },
          "execution_count": 7
        }
      ]
    },
    {
      "cell_type": "code",
      "metadata": {
        "id": "LyLJtX2AIz5w",
        "colab_type": "code",
        "outputId": "d11399d4-3e1b-43e0-8bbd-9624753f8458",
        "colab": {
          "base_uri": "https://localhost:8080/",
          "height": 33
        }
      },
      "source": [
        "dataframe.shape"
      ],
      "execution_count": 0,
      "outputs": [
        {
          "output_type": "execute_result",
          "data": {
            "text/plain": [
              "(362806, 12)"
            ]
          },
          "metadata": {
            "tags": []
          },
          "execution_count": 8
        }
      ]
    },
    {
      "cell_type": "code",
      "metadata": {
        "id": "UG5Qq151I1_l",
        "colab_type": "code",
        "colab": {}
      },
      "source": [
        "dataframe = dataframe[dataframe['satisfaction']!=10]\n",
        "dataframe = dataframe[dataframe['satisfaction']!=6]"
      ],
      "execution_count": 0,
      "outputs": []
    },
    {
      "cell_type": "code",
      "metadata": {
        "id": "89ANHLqFI4FM",
        "colab_type": "code",
        "outputId": "7eb75984-eef2-46a3-9a43-91921cf090d0",
        "colab": {
          "base_uri": "https://localhost:8080/",
          "height": 33
        }
      },
      "source": [
        "dataframe.shape\n"
      ],
      "execution_count": 0,
      "outputs": [
        {
          "output_type": "execute_result",
          "data": {
            "text/plain": [
              "(362803, 12)"
            ]
          },
          "metadata": {
            "tags": []
          },
          "execution_count": 10
        }
      ]
    },
    {
      "cell_type": "code",
      "metadata": {
        "id": "-xrbJWmVI5vV",
        "colab_type": "code",
        "outputId": "2bf92a4c-4e1e-42a4-ce50-117a41d07395",
        "colab": {
          "base_uri": "https://localhost:8080/",
          "height": 33
        }
      },
      "source": [
        "df_train, df_test = train_test_split(dataframe, test_size=0.33, random_state=42) \n",
        "dataframe.shape, df_train.shape, df_test.shape"
      ],
      "execution_count": 0,
      "outputs": [
        {
          "output_type": "execute_result",
          "data": {
            "text/plain": [
              "((362803, 12), (243078, 12), (119725, 12))"
            ]
          },
          "metadata": {
            "tags": []
          },
          "execution_count": 11
        }
      ]
    },
    {
      "cell_type": "markdown",
      "metadata": {
        "id": "4MVoUuliJZYJ",
        "colab_type": "text"
      },
      "source": [
        "Now the data is loaded we can try sentiment analysis with bult-in VADER sentiment analyzer from the nltk library."
      ]
    },
    {
      "cell_type": "code",
      "metadata": {
        "id": "_Pt4TQ2hJomW",
        "colab_type": "code",
        "outputId": "73c5c9f8-e922-4696-a5d7-49db1cf15aac",
        "colab": {
          "base_uri": "https://localhost:8080/",
          "height": 50
        }
      },
      "source": [
        "import nltk\n",
        "nltk.download('vader_lexicon')"
      ],
      "execution_count": 0,
      "outputs": [
        {
          "output_type": "stream",
          "text": [
            "[nltk_data] Downloading package vader_lexicon to /root/nltk_data...\n"
          ],
          "name": "stdout"
        },
        {
          "output_type": "execute_result",
          "data": {
            "text/plain": [
              "True"
            ]
          },
          "metadata": {
            "tags": []
          },
          "execution_count": 13
        }
      ]
    },
    {
      "cell_type": "code",
      "metadata": {
        "id": "-kv01omDJRPV",
        "colab_type": "code",
        "outputId": "fdf06bfb-fbd7-4b28-91ae-88aeda919571",
        "colab": {
          "base_uri": "https://localhost:8080/",
          "height": 216
        }
      },
      "source": [
        "from nltk.sentiment.vader import SentimentIntensityAnalyzer\n",
        "sid = SentimentIntensityAnalyzer()\n",
        "for sentence in dataframe['reviews'].values[:5]:\n",
        "    print(sentence)\n",
        "    ss = sid.polarity_scores(sentence)\n",
        "    for k in sorted(ss):\n",
        "        print('{0}: {1}, '.format(k, ss[k]), end='')\n",
        "    print()"
      ],
      "execution_count": 0,
      "outputs": [
        {
          "output_type": "stream",
          "text": [
            "I'm a retired physician and of all the meds I have tried for my allergies (seasonal and not) - this one is the most effective for me.  When I first began using this drug some years ago - tiredness as a problem but is not currently.\n",
            "compound: 0.0891, neg: 0.044, neu: 0.904, pos: 0.052, \n",
            "cleared me right up even with my throat hurting it went away after taking the medicine\n",
            "compound: -0.3182, neg: 0.149, neu: 0.773, pos: 0.077, \n",
            "why did my PTINR go from a normal of 2.5 to over \n",
            "100?\n",
            "compound: 0.0, neg: 0.0, neu: 1.0, pos: 0.0, \n",
            "FALLING AND DON'T REALISE IT\n",
            "compound: -0.1531, neg: 0.286, neu: 0.714, pos: 0.0, \n",
            "My grandfather was prescribed this medication (Coumadin) to assist in blood thinning due to a heart and thyroid condition.  His primary doctor was aware that he was on an aspirin regiment and still prescribed this medicine, it caused his blood to thin out to much and he ended up internally bleeding to death.  If you are going to take this medicine please ask your doctors about possible side effects or drug interactions.\n",
            "compound: -0.3818, neg: 0.052, neu: 0.918, pos: 0.031, \n"
          ],
          "name": "stdout"
        }
      ]
    },
    {
      "cell_type": "code",
      "metadata": {
        "id": "5mG-rh-uJlnA",
        "colab_type": "code",
        "colab": {}
      },
      "source": [
        "# Snippet from:\n",
        "# http://h6o6.com/2012/12/detecting-language-with-python-and-the-natural-language-toolkit-nltk/\n",
        "\n",
        "from nltk.corpus import stopwords   # stopwords to detect language\n",
        "from nltk import wordpunct_tokenize # function to split up our words\n",
        "\n",
        "def get_language_likelihood(input_text):\n",
        "    \"\"\"Return a dictionary of languages and their likelihood of being the \n",
        "    natural language of the input text\n",
        "    \"\"\"\n",
        " \n",
        "    input_text = input_text.lower()\n",
        "    input_words = wordpunct_tokenize(input_text)\n",
        " \n",
        "    language_likelihood = {}\n",
        "    total_matches = 0\n",
        "    for language in stopwords._fileids:\n",
        "        language_likelihood[language] = len(set(input_words) &\n",
        "                set(stopwords.words(language)))\n",
        " \n",
        "    return language_likelihood\n",
        " \n",
        "def get_language(input_text):\n",
        "    \"\"\"Return the most likely language of the given text\n",
        "    \"\"\" \n",
        "    likelihoods = get_language_likelihood(input_text)\n",
        "    return sorted(likelihoods, key=likelihoods.get, reverse=True)[0]"
      ],
      "execution_count": 0,
      "outputs": []
    },
    {
      "cell_type": "code",
      "metadata": {
        "id": "JGwiq3dgJwsc",
        "colab_type": "code",
        "colab": {}
      },
      "source": [
        "reviews_f = [r for r in dataframe['reviews'] if pd.notnull(r) and get_language(r) == 'english']"
      ],
      "execution_count": 0,
      "outputs": []
    },
    {
      "cell_type": "markdown",
      "metadata": {
        "id": "Hb0DqGtYJ9I6",
        "colab_type": "text"
      },
      "source": [
        "Generating polarity scores for the reviews.\n",
        "\n"
      ]
    },
    {
      "cell_type": "code",
      "metadata": {
        "id": "uZe8z5BVJ4wF",
        "colab_type": "code",
        "colab": {}
      },
      "source": [
        "pscores = [sid.polarity_scores(comment) for comment in reviews_f]\n"
      ],
      "execution_count": 0,
      "outputs": []
    },
    {
      "cell_type": "markdown",
      "metadata": {
        "id": "BbILR7ssKDDv",
        "colab_type": "text"
      },
      "source": [
        "Neutral scores for the reviews"
      ]
    },
    {
      "cell_type": "code",
      "metadata": {
        "id": "keDYeg-aKAVJ",
        "colab_type": "code",
        "outputId": "405b5d38-50da-497a-9377-b36b5495207a",
        "colab": {
          "base_uri": "https://localhost:8080/",
          "height": 281
        }
      },
      "source": [
        "pd.Series([score['neu'] for score in pscores]).plot(kind='hist')\n"
      ],
      "execution_count": 0,
      "outputs": [
        {
          "output_type": "execute_result",
          "data": {
            "text/plain": [
              "<matplotlib.axes._subplots.AxesSubplot at 0x7f94fcaecd68>"
            ]
          },
          "metadata": {
            "tags": []
          },
          "execution_count": 18
        },
        {
          "output_type": "display_data",
          "data": {
            "image/png": "[encoded data removed]",
            "text/plain": [
              "<Figure size 432x288 with 1 Axes>"
            ]
          },
          "metadata": {
            "tags": []
          }
        }
      ]
    },
    {
      "cell_type": "markdown",
      "metadata": {
        "id": "qEVillHZKLQm",
        "colab_type": "text"
      },
      "source": [
        "\n",
        "\n",
        "Positive scores for the reviews\n",
        "\n"
      ]
    },
    {
      "cell_type": "code",
      "metadata": {
        "id": "XyKlk_y8KIEu",
        "colab_type": "code",
        "outputId": "7a8e2b44-0f75-423e-f522-22f449b0eb27",
        "colab": {
          "base_uri": "https://localhost:8080/",
          "height": 281
        }
      },
      "source": [
        "pd.Series([score['pos'] for score in pscores]).plot(kind='hist')\n"
      ],
      "execution_count": 0,
      "outputs": [
        {
          "output_type": "execute_result",
          "data": {
            "text/plain": [
              "<matplotlib.axes._subplots.AxesSubplot at 0x7f94f6044a90>"
            ]
          },
          "metadata": {
            "tags": []
          },
          "execution_count": 19
        },
        {
          "output_type": "display_data",
          "data": {
            "image/png": "[encoded data removed]",
            "text/plain": [
              "<Figure size 432x288 with 1 Axes>"
            ]
          },
          "metadata": {
            "tags": []
          }
        }
      ]
    },
    {
      "cell_type": "markdown",
      "metadata": {
        "id": "zsmZh8ZxKQqV",
        "colab_type": "text"
      },
      "source": [
        "Reviews with negative scores\n",
        "\n",
        "A significant amount of the reviews are given 0.0 negativity."
      ]
    },
    {
      "cell_type": "code",
      "metadata": {
        "id": "BcArUAoJKNxi",
        "colab_type": "code",
        "outputId": "d99c9418-f0a7-43d7-f601-e0cb84c0c1fd",
        "colab": {
          "base_uri": "https://localhost:8080/",
          "height": 281
        }
      },
      "source": [
        "pd.Series([score['neg'] for score in pscores]).plot(kind='hist', bins=100)\n"
      ],
      "execution_count": 0,
      "outputs": [
        {
          "output_type": "execute_result",
          "data": {
            "text/plain": [
              "<matplotlib.axes._subplots.AxesSubplot at 0x7f94f5fd92e8>"
            ]
          },
          "metadata": {
            "tags": []
          },
          "execution_count": 20
        },
        {
          "output_type": "display_data",
          "data": {
            "image/png": "[encoded data removed]",
            "text/plain": [
              "<Figure size 432x288 with 1 Axes>"
            ]
          },
          "metadata": {
            "tags": []
          }
        }
      ]
    },
    {
      "cell_type": "code",
      "metadata": {
        "id": "MwO50PAhKTMh",
        "colab_type": "code",
        "colab": {}
      },
      "source": [
        "scored_reviews = pd.DataFrame()\n",
        "scored_reviews['review'] = [r for r in reviews_f if get_language(r) == 'english']\n",
        "scored_reviews['compound'] = [score['compound'] for score in pscores]\n",
        "scored_reviews['negativity'] = [score['neg'] for score in pscores]\n",
        "scored_reviews['neutrality'] = [score['neu'] for score in pscores]\n",
        "scored_reviews['positivity'] = [score['pos'] for score in pscores]"
      ],
      "execution_count": 0,
      "outputs": []
    },
    {
      "cell_type": "code",
      "metadata": {
        "id": "F641v4hOKaBC",
        "colab_type": "code",
        "outputId": "f327a934-dcdc-4364-bd8c-0cd9cd2819f7",
        "colab": {
          "base_uri": "https://localhost:8080/",
          "height": 240
        }
      },
      "source": [
        "scored_reviews.head()\n"
      ],
      "execution_count": 0,
      "outputs": [
        {
          "output_type": "execute_result",
          "data": {
            "text/html": [
              "<div>\n",
              "<style scoped>\n",
              "    .dataframe tbody tr th:only-of-type {\n",
              "        vertical-align: middle;\n",
              "    }\n",
              "\n",
              "    .dataframe tbody tr th {\n",
              "        vertical-align: top;\n",
              "    }\n",
              "\n",
              "    .dataframe thead th {\n",
              "        text-align: right;\n",
              "    }\n",
              "</style>\n",
              "<table border=\"1\" class=\"dataframe\">\n",
              "  <thead>\n",
              "    <tr style=\"text-align: right;\">\n",
              "      <th></th>\n",
              "      <th>review</th>\n",
              "      <th>compound</th>\n",
              "      <th>negativity</th>\n",
              "      <th>neutrality</th>\n",
              "      <th>positivity</th>\n",
              "    </tr>\n",
              "  </thead>\n",
              "  <tbody>\n",
              "    <tr>\n",
              "      <th>0</th>\n",
              "      <td>I'm a retired physician and of all the meds I have tried for my allergies (seasonal and not) - this one is the most effective for me.  When I first began using this drug some years ago - tiredness as a problem but is not currently.</td>\n",
              "      <td>0.0891</td>\n",
              "      <td>0.044</td>\n",
              "      <td>0.904</td>\n",
              "      <td>0.052</td>\n",
              "    </tr>\n",
              "    <tr>\n",
              "      <th>1</th>\n",
              "      <td>cleared me right up even with my throat hurting it went away after taking the medicine</td>\n",
              "      <td>-0.3182</td>\n",
              "      <td>0.149</td>\n",
              "      <td>0.773</td>\n",
              "      <td>0.077</td>\n",
              "    </tr>\n",
              "    <tr>\n",
              "      <th>2</th>\n",
              "      <td>why did my PTINR go from a normal of 2.5 to over \\n100?</td>\n",
              "      <td>0.0000</td>\n",
              "      <td>0.000</td>\n",
              "      <td>1.000</td>\n",
              "      <td>0.000</td>\n",
              "    </tr>\n",
              "    <tr>\n",
              "      <th>3</th>\n",
              "      <td>FALLING AND DON'T REALISE IT</td>\n",
              "      <td>-0.1531</td>\n",
              "      <td>0.286</td>\n",
              "      <td>0.714</td>\n",
              "      <td>0.000</td>\n",
              "    </tr>\n",
              "    <tr>\n",
              "      <th>4</th>\n",
              "      <td>My grandfather was prescribed this medication (Coumadin) to assist in blood thinning due to a heart and thyroid condition.  His primary doctor was aware that he was on an aspirin regiment and still prescribed this medicine, it caused his blood to thin out to much and he ended up internally bleeding to death.  If you are going to take this medicine please ask your doctors about possible side effects or drug interactions.</td>\n",
              "      <td>-0.3818</td>\n",
              "      <td>0.052</td>\n",
              "      <td>0.918</td>\n",
              "      <td>0.031</td>\n",
              "    </tr>\n",
              "  </tbody>\n",
              "</table>\n",
              "</div>"
            ],
            "text/plain": [
              "                                                                                                                                                                                                                                                                                                                                                                                                                                    review  ...  positivity\n",
              "0                                                                                                                                                                                                  I'm a retired physician and of all the meds I have tried for my allergies (seasonal and not) - this one is the most effective for me.  When I first began using this drug some years ago - tiredness as a problem but is not currently.  ...       0.052\n",
              "1                                                                                                                                                                                                                                                                                                                                                   cleared me right up even with my throat hurting it went away after taking the medicine  ...       0.077\n",
              "2                                                                                                                                                                                                                                                                                                                                                                                  why did my PTINR go from a normal of 2.5 to over \\n100?  ...       0.000\n",
              "3                                                                                                                                                                                                                                                                                                                                                                                                             FALLING AND DON'T REALISE IT  ...       0.000\n",
              "4  My grandfather was prescribed this medication (Coumadin) to assist in blood thinning due to a heart and thyroid condition.  His primary doctor was aware that he was on an aspirin regiment and still prescribed this medicine, it caused his blood to thin out to much and he ended up internally bleeding to death.  If you are going to take this medicine please ask your doctors about possible side effects or drug interactions.  ...       0.031\n",
              "\n",
              "[5 rows x 5 columns]"
            ]
          },
          "metadata": {
            "tags": []
          },
          "execution_count": 22
        }
      ]
    },
    {
      "cell_type": "markdown",
      "metadata": {
        "id": "9HQcF9FtKfwD",
        "colab_type": "text"
      },
      "source": [
        "Let's look at our positive-negativity reviews. Some of them aren't negative at all.\n",
        "\n"
      ]
    },
    {
      "cell_type": "code",
      "metadata": {
        "id": "0zVxkWazKcnj",
        "colab_type": "code",
        "outputId": "0b567b31-e2f2-436a-a7b9-a39deeb91d29",
        "colab": {
          "base_uri": "https://localhost:8080/",
          "height": 537
        }
      },
      "source": [
        "scored_reviews.query('negativity > 0')\n"
      ],
      "execution_count": 0,
      "outputs": [
        {
          "output_type": "execute_result",
          "data": {
            "text/html": [
              "<div>\n",
              "<style scoped>\n",
              "    .dataframe tbody tr th:only-of-type {\n",
              "        vertical-align: middle;\n",
              "    }\n",
              "\n",
              "    .dataframe tbody tr th {\n",
              "        vertical-align: top;\n",
              "    }\n",
              "\n",
              "    .dataframe thead th {\n",
              "        text-align: right;\n",
              "    }\n",
              "</style>\n",
              "<table border=\"1\" class=\"dataframe\">\n",
              "  <thead>\n",
              "    <tr style=\"text-align: right;\">\n",
              "      <th></th>\n",
              "      <th>review</th>\n",
              "      <th>compound</th>\n",
              "      <th>negativity</th>\n",
              "      <th>neutrality</th>\n",
              "      <th>positivity</th>\n",
              "    </tr>\n",
              "  </thead>\n",
              "  <tbody>\n",
              "    <tr>\n",
              "      <th>0</th>\n",
              "      <td>I'm a retired physician and of all the meds I have tried for my allergies (seasonal and not) - this one is the most effective for me.  When I first began using this drug some years ago - tiredness as a problem but is not currently.</td>\n",
              "      <td>0.0891</td>\n",
              "      <td>0.044</td>\n",
              "      <td>0.904</td>\n",
              "      <td>0.052</td>\n",
              "    </tr>\n",
              "    <tr>\n",
              "      <th>1</th>\n",
              "      <td>cleared me right up even with my throat hurting it went away after taking the medicine</td>\n",
              "      <td>-0.3182</td>\n",
              "      <td>0.149</td>\n",
              "      <td>0.773</td>\n",
              "      <td>0.077</td>\n",
              "    </tr>\n",
              "    <tr>\n",
              "      <th>3</th>\n",
              "      <td>FALLING AND DON'T REALISE IT</td>\n",
              "      <td>-0.1531</td>\n",
              "      <td>0.286</td>\n",
              "      <td>0.714</td>\n",
              "      <td>0.000</td>\n",
              "    </tr>\n",
              "    <tr>\n",
              "      <th>4</th>\n",
              "      <td>My grandfather was prescribed this medication (Coumadin) to assist in blood thinning due to a heart and thyroid condition.  His primary doctor was aware that he was on an aspirin regiment and still prescribed this medicine, it caused his blood to thin out to much and he ended up internally bleeding to death.  If you are going to take this medicine please ask your doctors about possible side effects or drug interactions.</td>\n",
              "      <td>-0.3818</td>\n",
              "      <td>0.052</td>\n",
              "      <td>0.918</td>\n",
              "      <td>0.031</td>\n",
              "    </tr>\n",
              "    <tr>\n",
              "      <th>5</th>\n",
              "      <td>Haven't gotten pregnant so it does it's job. I was switched to this brand from another generic. I get nauseous and generally feel tired on this, also more headaches.</td>\n",
              "      <td>-0.4404</td>\n",
              "      <td>0.100</td>\n",
              "      <td>0.900</td>\n",
              "      <td>0.000</td>\n",
              "    </tr>\n",
              "    <tr>\n",
              "      <th>...</th>\n",
              "      <td>...</td>\n",
              "      <td>...</td>\n",
              "      <td>...</td>\n",
              "      <td>...</td>\n",
              "      <td>...</td>\n",
              "    </tr>\n",
              "    <tr>\n",
              "      <th>311005</th>\n",
              "      <td>I took the whole 12 weeks.I could have stopped the drug sooner but thought i'd just go the whole 12 weeks. I had no weird dreams. I really didnt have any side effects I think because I was taking wellbutrin  also.I stopped June 16th of 2006 and havent had a cigerette since then.</td>\n",
              "      <td>-0.4767</td>\n",
              "      <td>0.160</td>\n",
              "      <td>0.775</td>\n",
              "      <td>0.065</td>\n",
              "    </tr>\n",
              "    <tr>\n",
              "      <th>311006</th>\n",
              "      <td>My dad strated taking Chantix about 1 month ago and he was doing fine, he stopped smoking but he had all the sideeffects listed. I got a phone call from my stepmother saying that he has been hopitalized because of crazy suicidal thoughts. My father is not the type of person to harm anyone let alone himself. If anyone has had the same symptoms please let me know im very worried.</td>\n",
              "      <td>-0.9580</td>\n",
              "      <td>0.249</td>\n",
              "      <td>0.701</td>\n",
              "      <td>0.051</td>\n",
              "    </tr>\n",
              "    <tr>\n",
              "      <th>311007</th>\n",
              "      <td>As long as I was on chantix, I didn't smoke.  Terrible stomach upset after each dose, constipation, headaches constantly, crazy dreams and mood swings.  I have had to stop taking it and have found other ways to stop smoking.</td>\n",
              "      <td>-0.4847</td>\n",
              "      <td>0.211</td>\n",
              "      <td>0.672</td>\n",
              "      <td>0.118</td>\n",
              "    </tr>\n",
              "    <tr>\n",
              "      <th>311008</th>\n",
              "      <td>Started this medication Oct 5th 2008. Haven't smoked for 6 weeks and planning on the full 12 weeks program.  I have had some problems like getting sick after the meds but accually it helps because everytime I see a smoker or smell smoke I get sick, still want one but it offsets it.</td>\n",
              "      <td>-0.4310</td>\n",
              "      <td>0.148</td>\n",
              "      <td>0.736</td>\n",
              "      <td>0.116</td>\n",
              "    </tr>\n",
              "    <tr>\n",
              "      <th>311009</th>\n",
              "      <td>One year ago, I tried Chantix and had to stop taking it because I was so nauseous in the morning.  Three weeks ago I started it again and found that if I eat 10 minutes before taking the pill, I don't get nauseous at all.  I have been smoke free for two weeks and will never smoke again.</td>\n",
              "      <td>0.2732</td>\n",
              "      <td>0.040</td>\n",
              "      <td>0.901</td>\n",
              "      <td>0.059</td>\n",
              "    </tr>\n",
              "  </tbody>\n",
              "</table>\n",
              "<p>254686 rows × 5 columns</p>\n",
              "</div>"
            ],
            "text/plain": [
              "                                                                                                                                                                                                                                                                                                                                                                                                                                         review  ...  positivity\n",
              "0                                                                                                                                                                                                       I'm a retired physician and of all the meds I have tried for my allergies (seasonal and not) - this one is the most effective for me.  When I first began using this drug some years ago - tiredness as a problem but is not currently.  ...       0.052\n",
              "1                                                                                                                                                                                                                                                                                                                                                        cleared me right up even with my throat hurting it went away after taking the medicine  ...       0.077\n",
              "3                                                                                                                                                                                                                                                                                                                                                                                                                  FALLING AND DON'T REALISE IT  ...       0.000\n",
              "4       My grandfather was prescribed this medication (Coumadin) to assist in blood thinning due to a heart and thyroid condition.  His primary doctor was aware that he was on an aspirin regiment and still prescribed this medicine, it caused his blood to thin out to much and he ended up internally bleeding to death.  If you are going to take this medicine please ask your doctors about possible side effects or drug interactions.  ...       0.031\n",
              "5                                                                                                                                                                                                                                                                         Haven't gotten pregnant so it does it's job. I was switched to this brand from another generic. I get nauseous and generally feel tired on this, also more headaches.  ...       0.000\n",
              "...                                                                                                                                                                                                                                                                                                                                                                                                                                         ...  ...         ...\n",
              "311005                                                                                                                                                  I took the whole 12 weeks.I could have stopped the drug sooner but thought i'd just go the whole 12 weeks. I had no weird dreams. I really didnt have any side effects I think because I was taking wellbutrin  also.I stopped June 16th of 2006 and havent had a cigerette since then.  ...       0.065\n",
              "311006                                             My dad strated taking Chantix about 1 month ago and he was doing fine, he stopped smoking but he had all the sideeffects listed. I got a phone call from my stepmother saying that he has been hopitalized because of crazy suicidal thoughts. My father is not the type of person to harm anyone let alone himself. If anyone has had the same symptoms please let me know im very worried.  ...       0.051\n",
              "311007                                                                                                                                                                                                         As long as I was on chantix, I didn't smoke.  Terrible stomach upset after each dose, constipation, headaches constantly, crazy dreams and mood swings.  I have had to stop taking it and have found other ways to stop smoking.  ...       0.118\n",
              "311008                                                                                                                                               Started this medication Oct 5th 2008. Haven't smoked for 6 weeks and planning on the full 12 weeks program.  I have had some problems like getting sick after the meds but accually it helps because everytime I see a smoker or smell smoke I get sick, still want one but it offsets it.  ...       0.116\n",
              "311009                                                                                                                                        One year ago, I tried Chantix and had to stop taking it because I was so nauseous in the morning.  Three weeks ago I started it again and found that if I eat 10 minutes before taking the pill, I don't get nauseous at all.  I have been smoke free for two weeks and will never smoke again.    ...       0.059\n",
              "\n",
              "[254686 rows x 5 columns]"
            ]
          },
          "metadata": {
            "tags": []
          },
          "execution_count": 23
        }
      ]
    },
    {
      "cell_type": "markdown",
      "metadata": {
        "id": "5eqOYa-kKp8L",
        "colab_type": "text"
      },
      "source": [
        "Here are two that are:\n",
        "\n"
      ]
    },
    {
      "cell_type": "code",
      "metadata": {
        "id": "2Z6VNkJ7KiAy",
        "colab_type": "code",
        "outputId": "7aa560cb-549c-422c-f7b4-df2cc1cd9309",
        "colab": {
          "base_uri": "https://localhost:8080/",
          "height": 53
        }
      },
      "source": [
        "scored_reviews.iloc[23]['review']\n"
      ],
      "execution_count": 0,
      "outputs": [
        {
          "output_type": "execute_result",
          "data": {
            "text/plain": [
              "'Right after starting this pill I began gaining weight and I know this was the culprit! I was bloated all the time and extremely moody- sort of like I was just about to start my period constantly. Not the mention the spotting I had about 50% of the time randomly. I absolutely hated this pill and would not recommend. '"
            ]
          },
          "metadata": {
            "tags": []
          },
          "execution_count": 24
        }
      ]
    },
    {
      "cell_type": "code",
      "metadata": {
        "id": "CLpYW2sYkFRY",
        "colab_type": "code",
        "outputId": "1a1797af-fc17-48e5-bcf4-de4b284e871f",
        "colab": {
          "base_uri": "https://localhost:8080/",
          "height": 33
        }
      },
      "source": [
        "scored_reviews.iloc[23]['compound']"
      ],
      "execution_count": 0,
      "outputs": [
        {
          "output_type": "execute_result",
          "data": {
            "text/plain": [
              "-0.6584"
            ]
          },
          "metadata": {
            "tags": []
          },
          "execution_count": 25
        }
      ]
    },
    {
      "cell_type": "code",
      "metadata": {
        "id": "s-O4kyQ2Kt_V",
        "colab_type": "code",
        "outputId": "2f9ea97f-955d-46f9-b084-4efbbf212c59",
        "colab": {
          "base_uri": "https://localhost:8080/",
          "height": 537
        }
      },
      "source": [
        "scored_reviews.query('negativity > positivity').query('negativity > 0.1')\n"
      ],
      "execution_count": 0,
      "outputs": [
        {
          "output_type": "execute_result",
          "data": {
            "text/html": [
              "<div>\n",
              "<style scoped>\n",
              "    .dataframe tbody tr th:only-of-type {\n",
              "        vertical-align: middle;\n",
              "    }\n",
              "\n",
              "    .dataframe tbody tr th {\n",
              "        vertical-align: top;\n",
              "    }\n",
              "\n",
              "    .dataframe thead th {\n",
              "        text-align: right;\n",
              "    }\n",
              "</style>\n",
              "<table border=\"1\" class=\"dataframe\">\n",
              "  <thead>\n",
              "    <tr style=\"text-align: right;\">\n",
              "      <th></th>\n",
              "      <th>review</th>\n",
              "      <th>compound</th>\n",
              "      <th>negativity</th>\n",
              "      <th>neutrality</th>\n",
              "      <th>positivity</th>\n",
              "    </tr>\n",
              "  </thead>\n",
              "  <tbody>\n",
              "    <tr>\n",
              "      <th>1</th>\n",
              "      <td>cleared me right up even with my throat hurting it went away after taking the medicine</td>\n",
              "      <td>-0.3182</td>\n",
              "      <td>0.149</td>\n",
              "      <td>0.773</td>\n",
              "      <td>0.077</td>\n",
              "    </tr>\n",
              "    <tr>\n",
              "      <th>3</th>\n",
              "      <td>FALLING AND DON'T REALISE IT</td>\n",
              "      <td>-0.1531</td>\n",
              "      <td>0.286</td>\n",
              "      <td>0.714</td>\n",
              "      <td>0.000</td>\n",
              "    </tr>\n",
              "    <tr>\n",
              "      <th>6</th>\n",
              "      <td>I have take this for 5 years age 45-50 to prevent ovarian cysts (I had 2 burst). Now stopped because of age. No side effects.</td>\n",
              "      <td>-0.4588</td>\n",
              "      <td>0.169</td>\n",
              "      <td>0.785</td>\n",
              "      <td>0.045</td>\n",
              "    </tr>\n",
              "    <tr>\n",
              "      <th>9</th>\n",
              "      <td>Taking Lyza made me break out HORRIBLY. I tried it out for 3 months and then it was so bad that I stopped taking it. Itâ??s inceedible how much it damaged my skin in only 3 months. Now itâ??s been 3 months since I stopped taking it and my skin is way better but i still have acne and i have really bad scars. I definitely would not take this again. Besides the acne, while taking Lyza I started to not get me periods anymore starting about the 3rd month. Everything else was fine. It didnâ??t giv...</td>\n",
              "      <td>-0.7413</td>\n",
              "      <td>0.156</td>\n",
              "      <td>0.744</td>\n",
              "      <td>0.100</td>\n",
              "    </tr>\n",
              "    <tr>\n",
              "      <th>10</th>\n",
              "      <td>This stuff needs to be removed from the market! It’s so harmful and ages you fast!! \\nI have dark racoon eyes, and dark marks all over my neck.\\nShortness of breath\\nHorrible mood swings\\nHorrible acne \\nEnlarged poors \\nAnd hair loss. Avoid this birth control because it literally IS THE PLAGUE!</td>\n",
              "      <td>-0.9130</td>\n",
              "      <td>0.216</td>\n",
              "      <td>0.784</td>\n",
              "      <td>0.000</td>\n",
              "    </tr>\n",
              "    <tr>\n",
              "      <th>...</th>\n",
              "      <td>...</td>\n",
              "      <td>...</td>\n",
              "      <td>...</td>\n",
              "      <td>...</td>\n",
              "      <td>...</td>\n",
              "    </tr>\n",
              "    <tr>\n",
              "      <th>311001</th>\n",
              "      <td>I took it for two days and had an allergic reaction to it. My chest and back had an itchy rash on it, as well as my face. My lips dried out. Very uncomfortable experience. What a waste of good money.</td>\n",
              "      <td>-0.7713</td>\n",
              "      <td>0.255</td>\n",
              "      <td>0.644</td>\n",
              "      <td>0.101</td>\n",
              "    </tr>\n",
              "    <tr>\n",
              "      <th>311005</th>\n",
              "      <td>I took the whole 12 weeks.I could have stopped the drug sooner but thought i'd just go the whole 12 weeks. I had no weird dreams. I really didnt have any side effects I think because I was taking wellbutrin  also.I stopped June 16th of 2006 and havent had a cigerette since then.</td>\n",
              "      <td>-0.4767</td>\n",
              "      <td>0.160</td>\n",
              "      <td>0.775</td>\n",
              "      <td>0.065</td>\n",
              "    </tr>\n",
              "    <tr>\n",
              "      <th>311006</th>\n",
              "      <td>My dad strated taking Chantix about 1 month ago and he was doing fine, he stopped smoking but he had all the sideeffects listed. I got a phone call from my stepmother saying that he has been hopitalized because of crazy suicidal thoughts. My father is not the type of person to harm anyone let alone himself. If anyone has had the same symptoms please let me know im very worried.</td>\n",
              "      <td>-0.9580</td>\n",
              "      <td>0.249</td>\n",
              "      <td>0.701</td>\n",
              "      <td>0.051</td>\n",
              "    </tr>\n",
              "    <tr>\n",
              "      <th>311007</th>\n",
              "      <td>As long as I was on chantix, I didn't smoke.  Terrible stomach upset after each dose, constipation, headaches constantly, crazy dreams and mood swings.  I have had to stop taking it and have found other ways to stop smoking.</td>\n",
              "      <td>-0.4847</td>\n",
              "      <td>0.211</td>\n",
              "      <td>0.672</td>\n",
              "      <td>0.118</td>\n",
              "    </tr>\n",
              "    <tr>\n",
              "      <th>311008</th>\n",
              "      <td>Started this medication Oct 5th 2008. Haven't smoked for 6 weeks and planning on the full 12 weeks program.  I have had some problems like getting sick after the meds but accually it helps because everytime I see a smoker or smell smoke I get sick, still want one but it offsets it.</td>\n",
              "      <td>-0.4310</td>\n",
              "      <td>0.148</td>\n",
              "      <td>0.736</td>\n",
              "      <td>0.116</td>\n",
              "    </tr>\n",
              "  </tbody>\n",
              "</table>\n",
              "<p>146246 rows × 5 columns</p>\n",
              "</div>"
            ],
            "text/plain": [
              "                                                                                                                                                                                                                                                                                                                                                                                                                                                                                                                     review  ...  positivity\n",
              "1                                                                                                                                                                                                                                                                                                                                                                                                                                    cleared me right up even with my throat hurting it went away after taking the medicine  ...       0.077\n",
              "3                                                                                                                                                                                                                                                                                                                                                                                                                                                                                              FALLING AND DON'T REALISE IT  ...       0.000\n",
              "6                                                                                                                                                                                                                                                                                                                                                                                            I have take this for 5 years age 45-50 to prevent ovarian cysts (I had 2 burst). Now stopped because of age. No side effects.   ...       0.045\n",
              "9       Taking Lyza made me break out HORRIBLY. I tried it out for 3 months and then it was so bad that I stopped taking it. Itâ??s inceedible how much it damaged my skin in only 3 months. Now itâ??s been 3 months since I stopped taking it and my skin is way better but i still have acne and i have really bad scars. I definitely would not take this again. Besides the acne, while taking Lyza I started to not get me periods anymore starting about the 3rd month. Everything else was fine. It didnâ??t giv...  ...       0.100\n",
              "10                                                                                                                                                                                                                This stuff needs to be removed from the market! It’s so harmful and ages you fast!! \\nI have dark racoon eyes, and dark marks all over my neck.\\nShortness of breath\\nHorrible mood swings\\nHorrible acne \\nEnlarged poors \\nAnd hair loss. Avoid this birth control because it literally IS THE PLAGUE!   ...       0.000\n",
              "...                                                                                                                                                                                                                                                                                                                                                                                                                                                                                                                     ...  ...         ...\n",
              "311001                                                                                                                                                                                                                                                                                                              I took it for two days and had an allergic reaction to it. My chest and back had an itchy rash on it, as well as my face. My lips dried out. Very uncomfortable experience. What a waste of good money.  ...       0.101\n",
              "311005                                                                                                                                                                                                                              I took the whole 12 weeks.I could have stopped the drug sooner but thought i'd just go the whole 12 weeks. I had no weird dreams. I really didnt have any side effects I think because I was taking wellbutrin  also.I stopped June 16th of 2006 and havent had a cigerette since then.  ...       0.065\n",
              "311006                                                                                                                         My dad strated taking Chantix about 1 month ago and he was doing fine, he stopped smoking but he had all the sideeffects listed. I got a phone call from my stepmother saying that he has been hopitalized because of crazy suicidal thoughts. My father is not the type of person to harm anyone let alone himself. If anyone has had the same symptoms please let me know im very worried.  ...       0.051\n",
              "311007                                                                                                                                                                                                                                                                                     As long as I was on chantix, I didn't smoke.  Terrible stomach upset after each dose, constipation, headaches constantly, crazy dreams and mood swings.  I have had to stop taking it and have found other ways to stop smoking.  ...       0.118\n",
              "311008                                                                                                                                                                                                                           Started this medication Oct 5th 2008. Haven't smoked for 6 weeks and planning on the full 12 weeks program.  I have had some problems like getting sick after the meds but accually it helps because everytime I see a smoker or smell smoke I get sick, still want one but it offsets it.  ...       0.116\n",
              "\n",
              "[146246 rows x 5 columns]"
            ]
          },
          "metadata": {
            "tags": []
          },
          "execution_count": 26
        }
      ]
    },
    {
      "cell_type": "code",
      "metadata": {
        "id": "EjDZy0yPKurl",
        "colab_type": "code",
        "outputId": "b04dffaa-8810-484d-87a8-66e303369313",
        "colab": {
          "base_uri": "https://localhost:8080/",
          "height": 553
        }
      },
      "source": [
        "scored_reviews.query('negativity > positivity').query('compound < -0.2')\n"
      ],
      "execution_count": 0,
      "outputs": [
        {
          "output_type": "execute_result",
          "data": {
            "text/html": [
              "<div>\n",
              "<style scoped>\n",
              "    .dataframe tbody tr th:only-of-type {\n",
              "        vertical-align: middle;\n",
              "    }\n",
              "\n",
              "    .dataframe tbody tr th {\n",
              "        vertical-align: top;\n",
              "    }\n",
              "\n",
              "    .dataframe thead th {\n",
              "        text-align: right;\n",
              "    }\n",
              "</style>\n",
              "<table border=\"1\" class=\"dataframe\">\n",
              "  <thead>\n",
              "    <tr style=\"text-align: right;\">\n",
              "      <th></th>\n",
              "      <th>review</th>\n",
              "      <th>compound</th>\n",
              "      <th>negativity</th>\n",
              "      <th>neutrality</th>\n",
              "      <th>positivity</th>\n",
              "    </tr>\n",
              "  </thead>\n",
              "  <tbody>\n",
              "    <tr>\n",
              "      <th>1</th>\n",
              "      <td>cleared me right up even with my throat hurting it went away after taking the medicine</td>\n",
              "      <td>-0.3182</td>\n",
              "      <td>0.149</td>\n",
              "      <td>0.773</td>\n",
              "      <td>0.077</td>\n",
              "    </tr>\n",
              "    <tr>\n",
              "      <th>4</th>\n",
              "      <td>My grandfather was prescribed this medication (Coumadin) to assist in blood thinning due to a heart and thyroid condition.  His primary doctor was aware that he was on an aspirin regiment and still prescribed this medicine, it caused his blood to thin out to much and he ended up internally bleeding to death.  If you are going to take this medicine please ask your doctors about possible side effects or drug interactions.</td>\n",
              "      <td>-0.3818</td>\n",
              "      <td>0.052</td>\n",
              "      <td>0.918</td>\n",
              "      <td>0.031</td>\n",
              "    </tr>\n",
              "    <tr>\n",
              "      <th>5</th>\n",
              "      <td>Haven't gotten pregnant so it does it's job. I was switched to this brand from another generic. I get nauseous and generally feel tired on this, also more headaches.</td>\n",
              "      <td>-0.4404</td>\n",
              "      <td>0.100</td>\n",
              "      <td>0.900</td>\n",
              "      <td>0.000</td>\n",
              "    </tr>\n",
              "    <tr>\n",
              "      <th>6</th>\n",
              "      <td>I have take this for 5 years age 45-50 to prevent ovarian cysts (I had 2 burst). Now stopped because of age. No side effects.</td>\n",
              "      <td>-0.4588</td>\n",
              "      <td>0.169</td>\n",
              "      <td>0.785</td>\n",
              "      <td>0.045</td>\n",
              "    </tr>\n",
              "    <tr>\n",
              "      <th>9</th>\n",
              "      <td>Taking Lyza made me break out HORRIBLY. I tried it out for 3 months and then it was so bad that I stopped taking it. Itâ??s inceedible how much it damaged my skin in only 3 months. Now itâ??s been 3 months since I stopped taking it and my skin is way better but i still have acne and i have really bad scars. I definitely would not take this again. Besides the acne, while taking Lyza I started to not get me periods anymore starting about the 3rd month. Everything else was fine. It didnâ??t giv...</td>\n",
              "      <td>-0.7413</td>\n",
              "      <td>0.156</td>\n",
              "      <td>0.744</td>\n",
              "      <td>0.100</td>\n",
              "    </tr>\n",
              "    <tr>\n",
              "      <th>...</th>\n",
              "      <td>...</td>\n",
              "      <td>...</td>\n",
              "      <td>...</td>\n",
              "      <td>...</td>\n",
              "      <td>...</td>\n",
              "    </tr>\n",
              "    <tr>\n",
              "      <th>311001</th>\n",
              "      <td>I took it for two days and had an allergic reaction to it. My chest and back had an itchy rash on it, as well as my face. My lips dried out. Very uncomfortable experience. What a waste of good money.</td>\n",
              "      <td>-0.7713</td>\n",
              "      <td>0.255</td>\n",
              "      <td>0.644</td>\n",
              "      <td>0.101</td>\n",
              "    </tr>\n",
              "    <tr>\n",
              "      <th>311005</th>\n",
              "      <td>I took the whole 12 weeks.I could have stopped the drug sooner but thought i'd just go the whole 12 weeks. I had no weird dreams. I really didnt have any side effects I think because I was taking wellbutrin  also.I stopped June 16th of 2006 and havent had a cigerette since then.</td>\n",
              "      <td>-0.4767</td>\n",
              "      <td>0.160</td>\n",
              "      <td>0.775</td>\n",
              "      <td>0.065</td>\n",
              "    </tr>\n",
              "    <tr>\n",
              "      <th>311006</th>\n",
              "      <td>My dad strated taking Chantix about 1 month ago and he was doing fine, he stopped smoking but he had all the sideeffects listed. I got a phone call from my stepmother saying that he has been hopitalized because of crazy suicidal thoughts. My father is not the type of person to harm anyone let alone himself. If anyone has had the same symptoms please let me know im very worried.</td>\n",
              "      <td>-0.9580</td>\n",
              "      <td>0.249</td>\n",
              "      <td>0.701</td>\n",
              "      <td>0.051</td>\n",
              "    </tr>\n",
              "    <tr>\n",
              "      <th>311007</th>\n",
              "      <td>As long as I was on chantix, I didn't smoke.  Terrible stomach upset after each dose, constipation, headaches constantly, crazy dreams and mood swings.  I have had to stop taking it and have found other ways to stop smoking.</td>\n",
              "      <td>-0.4847</td>\n",
              "      <td>0.211</td>\n",
              "      <td>0.672</td>\n",
              "      <td>0.118</td>\n",
              "    </tr>\n",
              "    <tr>\n",
              "      <th>311008</th>\n",
              "      <td>Started this medication Oct 5th 2008. Haven't smoked for 6 weeks and planning on the full 12 weeks program.  I have had some problems like getting sick after the meds but accually it helps because everytime I see a smoker or smell smoke I get sick, still want one but it offsets it.</td>\n",
              "      <td>-0.4310</td>\n",
              "      <td>0.148</td>\n",
              "      <td>0.736</td>\n",
              "      <td>0.116</td>\n",
              "    </tr>\n",
              "  </tbody>\n",
              "</table>\n",
              "<p>155794 rows × 5 columns</p>\n",
              "</div>"
            ],
            "text/plain": [
              "                                                                                                                                                                                                                                                                                                                                                                                                                                                                                                                     review  ...  positivity\n",
              "1                                                                                                                                                                                                                                                                                                                                                                                                                                    cleared me right up even with my throat hurting it went away after taking the medicine  ...       0.077\n",
              "4                                                                                   My grandfather was prescribed this medication (Coumadin) to assist in blood thinning due to a heart and thyroid condition.  His primary doctor was aware that he was on an aspirin regiment and still prescribed this medicine, it caused his blood to thin out to much and he ended up internally bleeding to death.  If you are going to take this medicine please ask your doctors about possible side effects or drug interactions.  ...       0.031\n",
              "5                                                                                                                                                                                                                                                                                                                                                     Haven't gotten pregnant so it does it's job. I was switched to this brand from another generic. I get nauseous and generally feel tired on this, also more headaches.  ...       0.000\n",
              "6                                                                                                                                                                                                                                                                                                                                                                                            I have take this for 5 years age 45-50 to prevent ovarian cysts (I had 2 burst). Now stopped because of age. No side effects.   ...       0.045\n",
              "9       Taking Lyza made me break out HORRIBLY. I tried it out for 3 months and then it was so bad that I stopped taking it. Itâ??s inceedible how much it damaged my skin in only 3 months. Now itâ??s been 3 months since I stopped taking it and my skin is way better but i still have acne and i have really bad scars. I definitely would not take this again. Besides the acne, while taking Lyza I started to not get me periods anymore starting about the 3rd month. Everything else was fine. It didnâ??t giv...  ...       0.100\n",
              "...                                                                                                                                                                                                                                                                                                                                                                                                                                                                                                                     ...  ...         ...\n",
              "311001                                                                                                                                                                                                                                                                                                              I took it for two days and had an allergic reaction to it. My chest and back had an itchy rash on it, as well as my face. My lips dried out. Very uncomfortable experience. What a waste of good money.  ...       0.101\n",
              "311005                                                                                                                                                                                                                              I took the whole 12 weeks.I could have stopped the drug sooner but thought i'd just go the whole 12 weeks. I had no weird dreams. I really didnt have any side effects I think because I was taking wellbutrin  also.I stopped June 16th of 2006 and havent had a cigerette since then.  ...       0.065\n",
              "311006                                                                                                                         My dad strated taking Chantix about 1 month ago and he was doing fine, he stopped smoking but he had all the sideeffects listed. I got a phone call from my stepmother saying that he has been hopitalized because of crazy suicidal thoughts. My father is not the type of person to harm anyone let alone himself. If anyone has had the same symptoms please let me know im very worried.  ...       0.051\n",
              "311007                                                                                                                                                                                                                                                                                     As long as I was on chantix, I didn't smoke.  Terrible stomach upset after each dose, constipation, headaches constantly, crazy dreams and mood swings.  I have had to stop taking it and have found other ways to stop smoking.  ...       0.118\n",
              "311008                                                                                                                                                                                                                           Started this medication Oct 5th 2008. Haven't smoked for 6 weeks and planning on the full 12 weeks program.  I have had some problems like getting sick after the meds but accually it helps because everytime I see a smoker or smell smoke I get sick, still want one but it offsets it.  ...       0.116\n",
              "\n",
              "[155794 rows x 5 columns]"
            ]
          },
          "metadata": {
            "tags": []
          },
          "execution_count": 27
        }
      ]
    },
    {
      "cell_type": "code",
      "metadata": {
        "id": "uFwLa1KSKvJO",
        "colab_type": "code",
        "outputId": "85a5dc78-5b64-42d0-ba0c-c02034398de5",
        "colab": {
          "base_uri": "https://localhost:8080/",
          "height": 33
        }
      },
      "source": [
        "scored_reviews.iloc[1181]['review']\n"
      ],
      "execution_count": 0,
      "outputs": [
        {
          "output_type": "execute_result",
          "data": {
            "text/plain": [
              "\"Has stopped my knee pain I've had for years in its tract. Yeah for me!! No side effects as of yet!!\""
            ]
          },
          "metadata": {
            "tags": []
          },
          "execution_count": 28
        }
      ]
    },
    {
      "cell_type": "code",
      "metadata": {
        "id": "dRvGKhhDkZK5",
        "colab_type": "code",
        "outputId": "e5497ad0-3123-499b-a91f-dc268f59be5e",
        "colab": {
          "base_uri": "https://localhost:8080/",
          "height": 115
        }
      },
      "source": [
        "scored_reviews.iloc[1181]"
      ],
      "execution_count": 0,
      "outputs": [
        {
          "output_type": "execute_result",
          "data": {
            "text/plain": [
              "review        Has stopped my knee pain I've had for years in its tract. Yeah for me!! No side effects as of yet!!\n",
              "compound                                                                                                  -0.7482\n",
              "negativity                                                                                                  0.309\n",
              "neutrality                                                                                                  0.612\n",
              "positivity                                                                                                  0.079\n",
              "Name: 1181, dtype: object"
            ]
          },
          "metadata": {
            "tags": []
          },
          "execution_count": 29
        }
      ]
    },
    {
      "cell_type": "markdown",
      "metadata": {
        "id": "Ymn38kbmLYMS",
        "colab_type": "text"
      },
      "source": [
        "The results are not very good, so we move on with different techniques for sentiment classification."
      ]
    },
    {
      "cell_type": "code",
      "metadata": {
        "id": "kAhGsv8i_eHV",
        "colab_type": "code",
        "outputId": "ae4df7a8-0bba-48f7-916d-66f1f5220847",
        "colab": {
          "base_uri": "https://localhost:8080/",
          "height": 207
        }
      },
      "source": [
        "import string\n",
        "import math\n",
        "from sklearn.feature_extraction.text import CountVectorizer\n",
        "from sklearn.model_selection import train_test_split, cross_val_score\n",
        "from sklearn.metrics import classification_report\n",
        "from sklearn.metrics import confusion_matrix, accuracy_score, roc_auc_score, roc_curve\n"
      ],
      "execution_count": 0,
      "outputs": [
        {
          "output_type": "stream",
          "text": [
            "/usr/local/lib/python3.6/dist-packages/nltk/twitter/__init__.py:20: UserWarning: The twython library has not been installed. Some functionality from the twitter package will not be available.\n",
            "  warnings.warn(\"The twython library has not been installed. \"\n"
          ],
          "name": "stderr"
        },
        {
          "output_type": "stream",
          "text": [
            "[nltk_data] Downloading package punkt to /root/nltk_data...\n",
            "[nltk_data]   Unzipping tokenizers/punkt.zip.\n",
            "[nltk_data] Downloading package stopwords to /root/nltk_data...\n",
            "[nltk_data]   Unzipping corpora/stopwords.zip.\n",
            "[nltk_data] Downloading package wordnet to /root/nltk_data...\n"
          ],
          "name": "stdout"
        },
        {
          "output_type": "stream",
          "text": [
            "/usr/local/lib/python3.6/dist-packages/statsmodels/tools/_testing.py:19: FutureWarning: pandas.util.testing is deprecated. Use the functions in the public API at pandas.testing instead.\n",
            "  import pandas.util.testing as tm\n"
          ],
          "name": "stderr"
        },
        {
          "output_type": "stream",
          "text": [
            "[nltk_data]   Unzipping corpora/wordnet.zip.\n"
          ],
          "name": "stdout"
        }
      ]
    },
    {
      "cell_type": "code",
      "metadata": {
        "id": "YTGuU-q5_gQ9",
        "colab_type": "code",
        "outputId": "337871f7-f405-4143-f7d5-11ada5cec972",
        "colab": {
          "base_uri": "https://localhost:8080/",
          "height": 323
        }
      },
      "source": [
        "dataframe = pd.read_csv(\"/content/drive/My Drive/nlp project dataset/webmd.csv\")\n",
        "dataframe.columns = dataframe.columns.str.lower()\n",
        "dataframe.head()"
      ],
      "execution_count": 0,
      "outputs": [
        {
          "output_type": "execute_result",
          "data": {
            "text/html": [
              "<div>\n",
              "<style scoped>\n",
              "    .dataframe tbody tr th:only-of-type {\n",
              "        vertical-align: middle;\n",
              "    }\n",
              "\n",
              "    .dataframe tbody tr th {\n",
              "        vertical-align: top;\n",
              "    }\n",
              "\n",
              "    .dataframe thead th {\n",
              "        text-align: right;\n",
              "    }\n",
              "</style>\n",
              "<table border=\"1\" class=\"dataframe\">\n",
              "  <thead>\n",
              "    <tr style=\"text-align: right;\">\n",
              "      <th></th>\n",
              "      <th>age</th>\n",
              "      <th>condition</th>\n",
              "      <th>date</th>\n",
              "      <th>drug</th>\n",
              "      <th>drugid</th>\n",
              "      <th>easeofuse</th>\n",
              "      <th>effectiveness</th>\n",
              "      <th>reviews</th>\n",
              "      <th>satisfaction</th>\n",
              "      <th>sex</th>\n",
              "      <th>sides</th>\n",
              "      <th>usefulcount</th>\n",
              "    </tr>\n",
              "  </thead>\n",
              "  <tbody>\n",
              "    <tr>\n",
              "      <th>0</th>\n",
              "      <td>75 or over</td>\n",
              "      <td>Stuffy Nose</td>\n",
              "      <td>9/21/2014</td>\n",
              "      <td>25dph-7.5peh</td>\n",
              "      <td>146724</td>\n",
              "      <td>5</td>\n",
              "      <td>5</td>\n",
              "      <td>I'm a retired physician and of all the meds I ...</td>\n",
              "      <td>5</td>\n",
              "      <td>Male</td>\n",
              "      <td>Drowsiness,  dizziness ,  dry mouth /nose/thro...</td>\n",
              "      <td>0</td>\n",
              "    </tr>\n",
              "    <tr>\n",
              "      <th>1</th>\n",
              "      <td>25-34</td>\n",
              "      <td>Cold Symptoms</td>\n",
              "      <td>1/13/2011</td>\n",
              "      <td>25dph-7.5peh</td>\n",
              "      <td>146724</td>\n",
              "      <td>5</td>\n",
              "      <td>5</td>\n",
              "      <td>cleared me right up even with my throat hurtin...</td>\n",
              "      <td>5</td>\n",
              "      <td>Female</td>\n",
              "      <td>Drowsiness,  dizziness ,  dry mouth /nose/thro...</td>\n",
              "      <td>1</td>\n",
              "    </tr>\n",
              "    <tr>\n",
              "      <th>2</th>\n",
              "      <td>65-74</td>\n",
              "      <td>Other</td>\n",
              "      <td>7/16/2012</td>\n",
              "      <td>warfarin (bulk) 100 % powder</td>\n",
              "      <td>144731</td>\n",
              "      <td>2</td>\n",
              "      <td>3</td>\n",
              "      <td>why did my PTINR go from a normal of 2.5 to ov...</td>\n",
              "      <td>3</td>\n",
              "      <td>Female</td>\n",
              "      <td></td>\n",
              "      <td>0</td>\n",
              "    </tr>\n",
              "    <tr>\n",
              "      <th>3</th>\n",
              "      <td>75 or over</td>\n",
              "      <td>Other</td>\n",
              "      <td>9/23/2010</td>\n",
              "      <td>warfarin (bulk) 100 % powder</td>\n",
              "      <td>144731</td>\n",
              "      <td>2</td>\n",
              "      <td>2</td>\n",
              "      <td>FALLING AND DON'T REALISE IT</td>\n",
              "      <td>1</td>\n",
              "      <td>Female</td>\n",
              "      <td></td>\n",
              "      <td>0</td>\n",
              "    </tr>\n",
              "    <tr>\n",
              "      <th>4</th>\n",
              "      <td>35-44</td>\n",
              "      <td>Other</td>\n",
              "      <td>1/6/2009</td>\n",
              "      <td>warfarin (bulk) 100 % powder</td>\n",
              "      <td>144731</td>\n",
              "      <td>1</td>\n",
              "      <td>1</td>\n",
              "      <td>My grandfather was prescribed this medication ...</td>\n",
              "      <td>1</td>\n",
              "      <td>Male</td>\n",
              "      <td></td>\n",
              "      <td>1</td>\n",
              "    </tr>\n",
              "  </tbody>\n",
              "</table>\n",
              "</div>"
            ],
            "text/plain": [
              "          age  ... usefulcount\n",
              "0  75 or over  ...           0\n",
              "1       25-34  ...           1\n",
              "2       65-74  ...           0\n",
              "3  75 or over  ...           0\n",
              "4       35-44  ...           1\n",
              "\n",
              "[5 rows x 12 columns]"
            ]
          },
          "metadata": {
            "tags": []
          },
          "execution_count": 3
        }
      ]
    },
    {
      "cell_type": "code",
      "metadata": {
        "id": "0Jm_5nFk_q5t",
        "colab_type": "code",
        "outputId": "5adf4eee-9995-4d45-8d99-9ad8e223e704",
        "colab": {
          "base_uri": "https://localhost:8080/",
          "height": 34
        }
      },
      "source": [
        "dataframe.shape"
      ],
      "execution_count": 0,
      "outputs": [
        {
          "output_type": "execute_result",
          "data": {
            "text/plain": [
              "(362806, 12)"
            ]
          },
          "metadata": {
            "tags": []
          },
          "execution_count": 4
        }
      ]
    },
    {
      "cell_type": "code",
      "metadata": {
        "id": "wEhK1AJt_tDH",
        "colab_type": "code",
        "colab": {}
      },
      "source": [
        "dataframe = dataframe[dataframe['satisfaction']!=10]\n",
        "dataframe = dataframe[dataframe['satisfaction']!=6]"
      ],
      "execution_count": 0,
      "outputs": []
    },
    {
      "cell_type": "code",
      "metadata": {
        "id": "20Qilqwrhcr7",
        "colab_type": "code",
        "outputId": "de4a89a3-9c90-4f6f-f9ea-3002f62ac528",
        "colab": {
          "base_uri": "https://localhost:8080/",
          "height": 34
        }
      },
      "source": [
        "dataframe.shape"
      ],
      "execution_count": 0,
      "outputs": [
        {
          "output_type": "execute_result",
          "data": {
            "text/plain": [
              "(362803, 12)"
            ]
          },
          "metadata": {
            "tags": []
          },
          "execution_count": 6
        }
      ]
    },
    {
      "cell_type": "code",
      "metadata": {
        "id": "3-GqcN0Shejz",
        "colab_type": "code",
        "outputId": "468286fa-bfe2-4c1e-e378-194b3ba68525",
        "colab": {
          "base_uri": "https://localhost:8080/",
          "height": 34
        }
      },
      "source": [
        "df_train, df_test = train_test_split(dataframe, test_size=0.33, random_state=42) \n",
        "dataframe.shape, df_train.shape, df_test.shape"
      ],
      "execution_count": 0,
      "outputs": [
        {
          "output_type": "execute_result",
          "data": {
            "text/plain": [
              "((362803, 12), (243078, 12), (119725, 12))"
            ]
          },
          "metadata": {
            "tags": []
          },
          "execution_count": 7
        }
      ]
    },
    {
      "cell_type": "code",
      "metadata": {
        "id": "01ET3edEhhAX",
        "colab_type": "code",
        "outputId": "b7ce40e0-6ffb-45af-f650-908b064fb857",
        "colab": {
          "base_uri": "https://localhost:8080/",
          "height": 900
        }
      },
      "source": [
        "dataframe.describe(include='all')\n",
        "print(\"Shape of the dataset:\")\n",
        "print(dataframe.shape) #size of the data corpus\n",
        "print(\"Column names:\")\n",
        "print(dataframe.columns)\n",
        "print(\"Datatype of each column:\")\n",
        "print(dataframe.dtypes)\n",
        "print(\"Sample of the data:\")\n",
        "print(dataframe.head())\n",
        "\n"
      ],
      "execution_count": 0,
      "outputs": [
        {
          "output_type": "stream",
          "text": [
            "Shape of the dataset:\n",
            "(362803, 12)\n",
            "Column names:\n",
            "Index(['age', 'condition', 'date', 'drug', 'drugid', 'easeofuse',\n",
            "       'effectiveness', 'reviews', 'satisfaction', 'sex', 'sides',\n",
            "       'usefulcount'],\n",
            "      dtype='object')\n",
            "Datatype of each column:\n",
            "age              object\n",
            "condition        object\n",
            "date             object\n",
            "drug             object\n",
            "drugid            int64\n",
            "easeofuse         int64\n",
            "effectiveness     int64\n",
            "reviews          object\n",
            "satisfaction      int64\n",
            "sex              object\n",
            "sides            object\n",
            "usefulcount       int64\n",
            "dtype: object\n",
            "Few dataset entries:\n",
            "          age  ... usefulcount\n",
            "0  75 or over  ...           0\n",
            "1       25-34  ...           1\n",
            "2       65-74  ...           0\n",
            "3  75 or over  ...           0\n",
            "4       35-44  ...           1\n",
            "\n",
            "[5 rows x 12 columns]\n"
          ],
          "name": "stdout"
        },
        {
          "output_type": "execute_result",
          "data": {
            "text/html": [
              "<div>\n",
              "<style scoped>\n",
              "    .dataframe tbody tr th:only-of-type {\n",
              "        vertical-align: middle;\n",
              "    }\n",
              "\n",
              "    .dataframe tbody tr th {\n",
              "        vertical-align: top;\n",
              "    }\n",
              "\n",
              "    .dataframe thead th {\n",
              "        text-align: right;\n",
              "    }\n",
              "</style>\n",
              "<table border=\"1\" class=\"dataframe\">\n",
              "  <thead>\n",
              "    <tr style=\"text-align: right;\">\n",
              "      <th></th>\n",
              "      <th>age</th>\n",
              "      <th>condition</th>\n",
              "      <th>date</th>\n",
              "      <th>drug</th>\n",
              "      <th>drugid</th>\n",
              "      <th>easeofuse</th>\n",
              "      <th>effectiveness</th>\n",
              "      <th>reviews</th>\n",
              "      <th>satisfaction</th>\n",
              "      <th>sex</th>\n",
              "      <th>sides</th>\n",
              "      <th>usefulcount</th>\n",
              "    </tr>\n",
              "  </thead>\n",
              "  <tbody>\n",
              "    <tr>\n",
              "      <th>count</th>\n",
              "      <td>362803</td>\n",
              "      <td>362803</td>\n",
              "      <td>362803</td>\n",
              "      <td>362803</td>\n",
              "      <td>362803.000000</td>\n",
              "      <td>362803.000000</td>\n",
              "      <td>362803.000000</td>\n",
              "      <td>362766</td>\n",
              "      <td>362803.000000</td>\n",
              "      <td>362803</td>\n",
              "      <td>362803</td>\n",
              "      <td>362803.000000</td>\n",
              "    </tr>\n",
              "    <tr>\n",
              "      <th>unique</th>\n",
              "      <td>12</td>\n",
              "      <td>1806</td>\n",
              "      <td>4524</td>\n",
              "      <td>7093</td>\n",
              "      <td>NaN</td>\n",
              "      <td>NaN</td>\n",
              "      <td>NaN</td>\n",
              "      <td>250166</td>\n",
              "      <td>NaN</td>\n",
              "      <td>3</td>\n",
              "      <td>1651</td>\n",
              "      <td>NaN</td>\n",
              "    </tr>\n",
              "    <tr>\n",
              "      <th>top</th>\n",
              "      <td>45-54</td>\n",
              "      <td>Other</td>\n",
              "      <td>10/29/2007</td>\n",
              "      <td>cymbalta</td>\n",
              "      <td>NaN</td>\n",
              "      <td>NaN</td>\n",
              "      <td>NaN</td>\n",
              "      <td></td>\n",
              "      <td>NaN</td>\n",
              "      <td>Female</td>\n",
              "      <td></td>\n",
              "      <td>NaN</td>\n",
              "    </tr>\n",
              "    <tr>\n",
              "      <th>freq</th>\n",
              "      <td>80042</td>\n",
              "      <td>49764</td>\n",
              "      <td>404</td>\n",
              "      <td>4648</td>\n",
              "      <td>NaN</td>\n",
              "      <td>NaN</td>\n",
              "      <td>NaN</td>\n",
              "      <td>41824</td>\n",
              "      <td>NaN</td>\n",
              "      <td>238224</td>\n",
              "      <td>17460</td>\n",
              "      <td>NaN</td>\n",
              "    </tr>\n",
              "    <tr>\n",
              "      <th>mean</th>\n",
              "      <td>NaN</td>\n",
              "      <td>NaN</td>\n",
              "      <td>NaN</td>\n",
              "      <td>NaN</td>\n",
              "      <td>36879.589154</td>\n",
              "      <td>4.019801</td>\n",
              "      <td>3.532030</td>\n",
              "      <td>NaN</td>\n",
              "      <td>3.135374</td>\n",
              "      <td>NaN</td>\n",
              "      <td>NaN</td>\n",
              "      <td>6.744958</td>\n",
              "    </tr>\n",
              "    <tr>\n",
              "      <th>std</th>\n",
              "      <td>NaN</td>\n",
              "      <td>NaN</td>\n",
              "      <td>NaN</td>\n",
              "      <td>NaN</td>\n",
              "      <td>52624.573202</td>\n",
              "      <td>1.317671</td>\n",
              "      <td>1.455916</td>\n",
              "      <td>NaN</td>\n",
              "      <td>1.611058</td>\n",
              "      <td>NaN</td>\n",
              "      <td>NaN</td>\n",
              "      <td>9.324264</td>\n",
              "    </tr>\n",
              "    <tr>\n",
              "      <th>min</th>\n",
              "      <td>NaN</td>\n",
              "      <td>NaN</td>\n",
              "      <td>NaN</td>\n",
              "      <td>NaN</td>\n",
              "      <td>1.000000</td>\n",
              "      <td>1.000000</td>\n",
              "      <td>1.000000</td>\n",
              "      <td>NaN</td>\n",
              "      <td>1.000000</td>\n",
              "      <td>NaN</td>\n",
              "      <td>NaN</td>\n",
              "      <td>0.000000</td>\n",
              "    </tr>\n",
              "    <tr>\n",
              "      <th>25%</th>\n",
              "      <td>NaN</td>\n",
              "      <td>NaN</td>\n",
              "      <td>NaN</td>\n",
              "      <td>NaN</td>\n",
              "      <td>4896.000000</td>\n",
              "      <td>3.000000</td>\n",
              "      <td>3.000000</td>\n",
              "      <td>NaN</td>\n",
              "      <td>1.000000</td>\n",
              "      <td>NaN</td>\n",
              "      <td>NaN</td>\n",
              "      <td>1.000000</td>\n",
              "    </tr>\n",
              "    <tr>\n",
              "      <th>50%</th>\n",
              "      <td>NaN</td>\n",
              "      <td>NaN</td>\n",
              "      <td>NaN</td>\n",
              "      <td>NaN</td>\n",
              "      <td>9548.000000</td>\n",
              "      <td>5.000000</td>\n",
              "      <td>4.000000</td>\n",
              "      <td>NaN</td>\n",
              "      <td>3.000000</td>\n",
              "      <td>NaN</td>\n",
              "      <td>NaN</td>\n",
              "      <td>4.000000</td>\n",
              "    </tr>\n",
              "    <tr>\n",
              "      <th>75%</th>\n",
              "      <td>NaN</td>\n",
              "      <td>NaN</td>\n",
              "      <td>NaN</td>\n",
              "      <td>NaN</td>\n",
              "      <td>63522.000000</td>\n",
              "      <td>5.000000</td>\n",
              "      <td>5.000000</td>\n",
              "      <td>NaN</td>\n",
              "      <td>5.000000</td>\n",
              "      <td>NaN</td>\n",
              "      <td>NaN</td>\n",
              "      <td>9.000000</td>\n",
              "    </tr>\n",
              "    <tr>\n",
              "      <th>max</th>\n",
              "      <td>NaN</td>\n",
              "      <td>NaN</td>\n",
              "      <td>NaN</td>\n",
              "      <td>NaN</td>\n",
              "      <td>178546.000000</td>\n",
              "      <td>5.000000</td>\n",
              "      <td>5.000000</td>\n",
              "      <td>NaN</td>\n",
              "      <td>5.000000</td>\n",
              "      <td>NaN</td>\n",
              "      <td>NaN</td>\n",
              "      <td>255.000000</td>\n",
              "    </tr>\n",
              "  </tbody>\n",
              "</table>\n",
              "</div>"
            ],
            "text/plain": [
              "           age condition        date  ...     sex   sides    usefulcount\n",
              "count   362803    362803      362803  ...  362803  362803  362803.000000\n",
              "unique      12      1806        4524  ...       3    1651            NaN\n",
              "top      45-54     Other  10/29/2007  ...  Female                    NaN\n",
              "freq     80042     49764         404  ...  238224   17460            NaN\n",
              "mean       NaN       NaN         NaN  ...     NaN     NaN       6.744958\n",
              "std        NaN       NaN         NaN  ...     NaN     NaN       9.324264\n",
              "min        NaN       NaN         NaN  ...     NaN     NaN       0.000000\n",
              "25%        NaN       NaN         NaN  ...     NaN     NaN       1.000000\n",
              "50%        NaN       NaN         NaN  ...     NaN     NaN       4.000000\n",
              "75%        NaN       NaN         NaN  ...     NaN     NaN       9.000000\n",
              "max        NaN       NaN         NaN  ...     NaN     NaN     255.000000\n",
              "\n",
              "[11 rows x 12 columns]"
            ]
          },
          "metadata": {
            "tags": []
          },
          "execution_count": 8
        }
      ]
    },
    {
      "cell_type": "markdown",
      "metadata": {
        "id": "JoqFC2hUjd0X",
        "colab_type": "text"
      },
      "source": [
        "The new column will be - \"length\". This column will hold the data of the word length of the review.\n",
        "\n"
      ]
    },
    {
      "cell_type": "code",
      "metadata": {
        "id": "Kty2dgjqjEEK",
        "colab_type": "code",
        "outputId": "f7e40222-dd03-43ed-e910-eb66f9f8d7c3",
        "colab": {
          "base_uri": "https://localhost:8080/",
          "height": 357
        }
      },
      "source": [
        "#adding a column named length for the number of words in the review\n",
        "dataframe['reviews']=dataframe['reviews'].astype(str)\n",
        "dataframe['length'] = dataframe['reviews'].apply(len)\n",
        "dataframe.head()"
      ],
      "execution_count": 0,
      "outputs": [
        {
          "output_type": "execute_result",
          "data": {
            "text/html": [
              "<div>\n",
              "<style scoped>\n",
              "    .dataframe tbody tr th:only-of-type {\n",
              "        vertical-align: middle;\n",
              "    }\n",
              "\n",
              "    .dataframe tbody tr th {\n",
              "        vertical-align: top;\n",
              "    }\n",
              "\n",
              "    .dataframe thead th {\n",
              "        text-align: right;\n",
              "    }\n",
              "</style>\n",
              "<table border=\"1\" class=\"dataframe\">\n",
              "  <thead>\n",
              "    <tr style=\"text-align: right;\">\n",
              "      <th></th>\n",
              "      <th>age</th>\n",
              "      <th>condition</th>\n",
              "      <th>date</th>\n",
              "      <th>drug</th>\n",
              "      <th>drugid</th>\n",
              "      <th>easeofuse</th>\n",
              "      <th>effectiveness</th>\n",
              "      <th>reviews</th>\n",
              "      <th>satisfaction</th>\n",
              "      <th>sex</th>\n",
              "      <th>sides</th>\n",
              "      <th>usefulcount</th>\n",
              "      <th>length</th>\n",
              "    </tr>\n",
              "  </thead>\n",
              "  <tbody>\n",
              "    <tr>\n",
              "      <th>0</th>\n",
              "      <td>75 or over</td>\n",
              "      <td>Stuffy Nose</td>\n",
              "      <td>9/21/2014</td>\n",
              "      <td>25dph-7.5peh</td>\n",
              "      <td>146724</td>\n",
              "      <td>5</td>\n",
              "      <td>5</td>\n",
              "      <td>I'm a retired physician and of all the meds I ...</td>\n",
              "      <td>5</td>\n",
              "      <td>Male</td>\n",
              "      <td>Drowsiness,  dizziness ,  dry mouth /nose/thro...</td>\n",
              "      <td>0</td>\n",
              "      <td>231</td>\n",
              "    </tr>\n",
              "    <tr>\n",
              "      <th>1</th>\n",
              "      <td>25-34</td>\n",
              "      <td>Cold Symptoms</td>\n",
              "      <td>1/13/2011</td>\n",
              "      <td>25dph-7.5peh</td>\n",
              "      <td>146724</td>\n",
              "      <td>5</td>\n",
              "      <td>5</td>\n",
              "      <td>cleared me right up even with my throat hurtin...</td>\n",
              "      <td>5</td>\n",
              "      <td>Female</td>\n",
              "      <td>Drowsiness,  dizziness ,  dry mouth /nose/thro...</td>\n",
              "      <td>1</td>\n",
              "      <td>86</td>\n",
              "    </tr>\n",
              "    <tr>\n",
              "      <th>2</th>\n",
              "      <td>65-74</td>\n",
              "      <td>Other</td>\n",
              "      <td>7/16/2012</td>\n",
              "      <td>warfarin (bulk) 100 % powder</td>\n",
              "      <td>144731</td>\n",
              "      <td>2</td>\n",
              "      <td>3</td>\n",
              "      <td>why did my PTINR go from a normal of 2.5 to ov...</td>\n",
              "      <td>3</td>\n",
              "      <td>Female</td>\n",
              "      <td></td>\n",
              "      <td>0</td>\n",
              "      <td>54</td>\n",
              "    </tr>\n",
              "    <tr>\n",
              "      <th>3</th>\n",
              "      <td>75 or over</td>\n",
              "      <td>Other</td>\n",
              "      <td>9/23/2010</td>\n",
              "      <td>warfarin (bulk) 100 % powder</td>\n",
              "      <td>144731</td>\n",
              "      <td>2</td>\n",
              "      <td>2</td>\n",
              "      <td>FALLING AND DON'T REALISE IT</td>\n",
              "      <td>1</td>\n",
              "      <td>Female</td>\n",
              "      <td></td>\n",
              "      <td>0</td>\n",
              "      <td>28</td>\n",
              "    </tr>\n",
              "    <tr>\n",
              "      <th>4</th>\n",
              "      <td>35-44</td>\n",
              "      <td>Other</td>\n",
              "      <td>1/6/2009</td>\n",
              "      <td>warfarin (bulk) 100 % powder</td>\n",
              "      <td>144731</td>\n",
              "      <td>1</td>\n",
              "      <td>1</td>\n",
              "      <td>My grandfather was prescribed this medication ...</td>\n",
              "      <td>1</td>\n",
              "      <td>Male</td>\n",
              "      <td></td>\n",
              "      <td>1</td>\n",
              "      <td>423</td>\n",
              "    </tr>\n",
              "  </tbody>\n",
              "</table>\n",
              "</div>"
            ],
            "text/plain": [
              "          age      condition  ... usefulcount length\n",
              "0  75 or over    Stuffy Nose  ...           0    231\n",
              "1       25-34  Cold Symptoms  ...           1     86\n",
              "2       65-74          Other  ...           0     54\n",
              "3  75 or over          Other  ...           0     28\n",
              "4       35-44          Other  ...           1    423\n",
              "\n",
              "[5 rows x 13 columns]"
            ]
          },
          "metadata": {
            "tags": []
          },
          "execution_count": 8
        }
      ]
    },
    {
      "cell_type": "markdown",
      "metadata": {
        "id": "74qmDS-TjpVl",
        "colab_type": "text"
      },
      "source": [
        "As the graphs show, the extreme ratings for satisfaction (grade 1 and grade 5) are slightly longer than the reviews with ratings 2, 3 or 4."
      ]
    },
    {
      "cell_type": "code",
      "metadata": {
        "id": "ghElpnt6jo_N",
        "colab_type": "code",
        "outputId": "20539948-7ac6-4eb0-b622-f945429dffe4",
        "colab": {
          "base_uri": "https://localhost:8080/",
          "height": 242
        }
      },
      "source": [
        "# visual representation of the connection between satisfaction rating and the number of words of the review\n",
        "graph = sns.FacetGrid(data=dataframe,col='satisfaction')\n",
        "graph.map(plt.hist,'length',bins=50,color='blue')"
      ],
      "execution_count": 0,
      "outputs": [
        {
          "output_type": "execute_result",
          "data": {
            "text/plain": [
              "<seaborn.axisgrid.FacetGrid at 0x7f8436f00c18>"
            ]
          },
          "metadata": {
            "tags": []
          },
          "execution_count": 10
        },
        {
          "output_type": "display_data",
          "data": {
            "image/png": "[encoded data removed]",
            "text/plain": [
              "<Figure size 1080x216 with 5 Axes>"
            ]
          },
          "metadata": {
            "tags": []
          }
        }
      ]
    },
    {
      "cell_type": "markdown",
      "metadata": {
        "id": "6AC993GFkDjE",
        "colab_type": "text"
      },
      "source": [
        "ease of use, effectiovness and useful count are anoter three columns which describe the data. lets see their means in comparisson with the satisfaction value\n"
      ]
    },
    {
      "cell_type": "code",
      "metadata": {
        "id": "-iUcp4NCjkgy",
        "colab_type": "code",
        "outputId": "e8b74a0f-9622-4732-8c5a-682b2d5f8d8c",
        "colab": {
          "base_uri": "https://localhost:8080/",
          "height": 235
        }
      },
      "source": [
        "# GETTING THE MEAN VALUES OF THE VOTE COLUMNS WRT THE STARS ON THE REVIEW\n",
        "stval = dataframe.groupby('satisfaction').mean()\n",
        "stval"
      ],
      "execution_count": 0,
      "outputs": [
        {
          "output_type": "execute_result",
          "data": {
            "text/html": [
              "<div>\n",
              "<style scoped>\n",
              "    .dataframe tbody tr th:only-of-type {\n",
              "        vertical-align: middle;\n",
              "    }\n",
              "\n",
              "    .dataframe tbody tr th {\n",
              "        vertical-align: top;\n",
              "    }\n",
              "\n",
              "    .dataframe thead th {\n",
              "        text-align: right;\n",
              "    }\n",
              "</style>\n",
              "<table border=\"1\" class=\"dataframe\">\n",
              "  <thead>\n",
              "    <tr style=\"text-align: right;\">\n",
              "      <th></th>\n",
              "      <th>drugid</th>\n",
              "      <th>easeofuse</th>\n",
              "      <th>effectiveness</th>\n",
              "      <th>usefulcount</th>\n",
              "      <th>length</th>\n",
              "    </tr>\n",
              "    <tr>\n",
              "      <th>satisfaction</th>\n",
              "      <th></th>\n",
              "      <th></th>\n",
              "      <th></th>\n",
              "      <th></th>\n",
              "      <th></th>\n",
              "    </tr>\n",
              "  </thead>\n",
              "  <tbody>\n",
              "    <tr>\n",
              "      <th>1</th>\n",
              "      <td>41578.189195</td>\n",
              "      <td>2.976452</td>\n",
              "      <td>1.927830</td>\n",
              "      <td>7.241167</td>\n",
              "      <td>344.279601</td>\n",
              "    </tr>\n",
              "    <tr>\n",
              "      <th>2</th>\n",
              "      <td>35337.325364</td>\n",
              "      <td>3.689887</td>\n",
              "      <td>2.966470</td>\n",
              "      <td>5.712127</td>\n",
              "      <td>287.194924</td>\n",
              "    </tr>\n",
              "    <tr>\n",
              "      <th>3</th>\n",
              "      <td>32747.298214</td>\n",
              "      <td>4.011494</td>\n",
              "      <td>3.477995</td>\n",
              "      <td>5.288301</td>\n",
              "      <td>266.777791</td>\n",
              "    </tr>\n",
              "    <tr>\n",
              "      <th>4</th>\n",
              "      <td>33376.030226</td>\n",
              "      <td>4.380490</td>\n",
              "      <td>4.134156</td>\n",
              "      <td>6.077932</td>\n",
              "      <td>283.832579</td>\n",
              "    </tr>\n",
              "    <tr>\n",
              "      <th>5</th>\n",
              "      <td>37022.651179</td>\n",
              "      <td>4.867719</td>\n",
              "      <td>4.846472</td>\n",
              "      <td>7.678108</td>\n",
              "      <td>281.138861</td>\n",
              "    </tr>\n",
              "  </tbody>\n",
              "</table>\n",
              "</div>"
            ],
            "text/plain": [
              "                    drugid  easeofuse  effectiveness  usefulcount      length\n",
              "satisfaction                                                                 \n",
              "1             41578.189195   2.976452       1.927830     7.241167  344.279601\n",
              "2             35337.325364   3.689887       2.966470     5.712127  287.194924\n",
              "3             32747.298214   4.011494       3.477995     5.288301  266.777791\n",
              "4             33376.030226   4.380490       4.134156     6.077932  283.832579\n",
              "5             37022.651179   4.867719       4.846472     7.678108  281.138861"
            ]
          },
          "metadata": {
            "tags": []
          },
          "execution_count": 11
        }
      ]
    },
    {
      "cell_type": "code",
      "metadata": {
        "id": "EnZyRs45kQmp",
        "colab_type": "code",
        "outputId": "cba78534-e91d-4813-bd8b-b05db9e1507c",
        "colab": {
          "base_uri": "https://localhost:8080/",
          "height": 204
        }
      },
      "source": [
        "# FINDING THE CORRELATION BETWEEN THE VOTE COLUMNS\n",
        "stval.corr()"
      ],
      "execution_count": 0,
      "outputs": [
        {
          "output_type": "execute_result",
          "data": {
            "text/html": [
              "<div>\n",
              "<style scoped>\n",
              "    .dataframe tbody tr th:only-of-type {\n",
              "        vertical-align: middle;\n",
              "    }\n",
              "\n",
              "    .dataframe tbody tr th {\n",
              "        vertical-align: top;\n",
              "    }\n",
              "\n",
              "    .dataframe thead th {\n",
              "        text-align: right;\n",
              "    }\n",
              "</style>\n",
              "<table border=\"1\" class=\"dataframe\">\n",
              "  <thead>\n",
              "    <tr style=\"text-align: right;\">\n",
              "      <th></th>\n",
              "      <th>drugid</th>\n",
              "      <th>easeofuse</th>\n",
              "      <th>effectiveness</th>\n",
              "      <th>usefulcount</th>\n",
              "      <th>length</th>\n",
              "    </tr>\n",
              "  </thead>\n",
              "  <tbody>\n",
              "    <tr>\n",
              "      <th>drugid</th>\n",
              "      <td>1.000000</td>\n",
              "      <td>-0.559141</td>\n",
              "      <td>-0.547220</td>\n",
              "      <td>0.756964</td>\n",
              "      <td>0.915069</td>\n",
              "    </tr>\n",
              "    <tr>\n",
              "      <th>easeofuse</th>\n",
              "      <td>-0.559141</td>\n",
              "      <td>1.000000</td>\n",
              "      <td>0.999379</td>\n",
              "      <td>0.111982</td>\n",
              "      <td>-0.758625</td>\n",
              "    </tr>\n",
              "    <tr>\n",
              "      <th>effectiveness</th>\n",
              "      <td>-0.547220</td>\n",
              "      <td>0.999379</td>\n",
              "      <td>1.000000</td>\n",
              "      <td>0.128920</td>\n",
              "      <td>-0.741252</td>\n",
              "    </tr>\n",
              "    <tr>\n",
              "      <th>usefulcount</th>\n",
              "      <td>0.756964</td>\n",
              "      <td>0.111982</td>\n",
              "      <td>0.128920</td>\n",
              "      <td>1.000000</td>\n",
              "      <td>0.525770</td>\n",
              "    </tr>\n",
              "    <tr>\n",
              "      <th>length</th>\n",
              "      <td>0.915069</td>\n",
              "      <td>-0.758625</td>\n",
              "      <td>-0.741252</td>\n",
              "      <td>0.525770</td>\n",
              "      <td>1.000000</td>\n",
              "    </tr>\n",
              "  </tbody>\n",
              "</table>\n",
              "</div>"
            ],
            "text/plain": [
              "                 drugid  easeofuse  effectiveness  usefulcount    length\n",
              "drugid         1.000000  -0.559141      -0.547220     0.756964  0.915069\n",
              "easeofuse     -0.559141   1.000000       0.999379     0.111982 -0.758625\n",
              "effectiveness -0.547220   0.999379       1.000000     0.128920 -0.741252\n",
              "usefulcount    0.756964   0.111982       0.128920     1.000000  0.525770\n",
              "length         0.915069  -0.758625      -0.741252     0.525770  1.000000"
            ]
          },
          "metadata": {
            "tags": []
          },
          "execution_count": 12
        }
      ]
    },
    {
      "cell_type": "code",
      "metadata": {
        "id": "c0OxzEfxk5nC",
        "colab_type": "code",
        "outputId": "d9d0eca8-c2ab-448b-8343-333a147ec6d4",
        "colab": {
          "base_uri": "https://localhost:8080/",
          "height": 238
        }
      },
      "source": [
        "# CLASSIFICATION\n",
        "data_classes = dataframe[(dataframe['satisfaction']==1) | (dataframe['satisfaction']==3) | (dataframe['satisfaction']==5)]\n",
        "data_classes.head()\n",
        "print(data_classes.shape)\n",
        "\n",
        "# Separate the dataset into X and Y\n",
        "x = data_classes['reviews']\n",
        "y = data_classes['satisfaction']\n",
        "print(x.head())\n",
        "print(y.head())"
      ],
      "execution_count": 0,
      "outputs": [
        {
          "output_type": "stream",
          "text": [
            "(264303, 13)\n",
            "0    I'm a retired physician and of all the meds I ...\n",
            "1    cleared me right up even with my throat hurtin...\n",
            "2    why did my PTINR go from a normal of 2.5 to ov...\n",
            "3                         FALLING AND DON'T REALISE IT\n",
            "4    My grandfather was prescribed this medication ...\n",
            "Name: reviews, dtype: object\n",
            "0    5\n",
            "1    5\n",
            "2    3\n",
            "3    1\n",
            "4    1\n",
            "Name: satisfaction, dtype: int64\n"
          ],
          "name": "stdout"
        }
      ]
    },
    {
      "cell_type": "markdown",
      "metadata": {
        "id": "mVH5zYLylTpE",
        "colab_type": "text"
      },
      "source": [
        "We will now, define a function which will clean the dataset by removing stopwords and punctuations."
      ]
    },
    {
      "cell_type": "code",
      "metadata": {
        "id": "fLjhT2BclKui",
        "colab_type": "code",
        "colab": {}
      },
      "source": [
        "# CLEANING THE REVIEWS - REMOVAL OF STOPWORDS AND PUNCTUATION\n",
        "def text_process(text):\n",
        "    nopunc = [char for char in text if char not in string.punctuation]\n",
        "    nopunc = ''.join(nopunc)\n",
        "    return [word for word in nopunc.split() if word.lower() not in stopwords.words('english')]"
      ],
      "execution_count": 0,
      "outputs": []
    },
    {
      "cell_type": "markdown",
      "metadata": {
        "id": "XSaDVb5PlaD_",
        "colab_type": "text"
      },
      "source": [
        "We will now vectorize a single review and see the results:\n",
        "\n"
      ]
    },
    {
      "cell_type": "code",
      "metadata": {
        "id": "s2acYBt8lWwF",
        "colab_type": "code",
        "outputId": "c40bb416-f200-4a6a-ea8b-1c617506f619",
        "colab": {
          "base_uri": "https://localhost:8080/",
          "height": 428
        }
      },
      "source": [
        "# CONVERTING THE WORDS INTO A VECTOR\n",
        "vocab = CountVectorizer(analyzer=text_process).fit(x)\n",
        "print(len(vocab.vocabulary_))\n",
        "r0 = x[0]\n",
        "print(r0)\n",
        "vocab0 = vocab.transform([r0])\n",
        "print(vocab0)\n",
        "\"\"\"\n",
        "    Now the words in the review number 78 have been converted into a vector.\n",
        "    The data that we can see is the transformed words.\n",
        "    If we now get the feature's name - we can get the word back!\n",
        "\"\"\"\n",
        "print(\"Getting the words back:\")\n",
        "print(vocab.get_feature_names()[19648])\n",
        "print(vocab.get_feature_names()[10643])\n"
      ],
      "execution_count": 0,
      "outputs": [
        {
          "output_type": "stream",
          "text": [
            "182582\n",
            "I'm a retired physician and of all the meds I have tried for my allergies (seasonal and not) - this one is the most effective for me.  When I first began using this drug some years ago - tiredness as a problem but is not currently.\n",
            "  (0, 32887)\t1\n",
            "  (0, 61769)\t1\n",
            "  (0, 62558)\t1\n",
            "  (0, 70020)\t1\n",
            "  (0, 82786)\t1\n",
            "  (0, 91328)\t1\n",
            "  (0, 93030)\t1\n",
            "  (0, 100290)\t1\n",
            "  (0, 124512)\t1\n",
            "  (0, 134968)\t1\n",
            "  (0, 140878)\t1\n",
            "  (0, 144326)\t1\n",
            "  (0, 150477)\t1\n",
            "  (0, 153306)\t1\n",
            "  (0, 168727)\t1\n",
            "  (0, 170807)\t1\n",
            "  (0, 173870)\t1\n",
            "  (0, 180915)\t1\n",
            "Getting the words back:\n",
            "CROSS\n",
            "6months\n"
          ],
          "name": "stdout"
        }
      ]
    },
    {
      "cell_type": "markdown",
      "metadata": {
        "id": "3osM-iXQlllf",
        "colab_type": "text"
      },
      "source": [
        "(10). Vectorization of the whole review set and and checking the sparse matrix:\n",
        "\n"
      ]
    },
    {
      "cell_type": "code",
      "metadata": {
        "id": "3mtFqGBvllOq",
        "colab_type": "code",
        "outputId": "44daffa8-01c4-4c60-d749-58ae7adfd4bd",
        "colab": {
          "base_uri": "https://localhost:8080/",
          "height": 68
        }
      },
      "source": [
        "x = vocab.transform(x)\n",
        "#Shape of the matrix:\n",
        "print(\"Shape of the sparse matrix: \", x.shape)\n",
        "#Non-zero occurences:\n",
        "print(\"Non-Zero occurences: \",x.nnz)\n",
        "\n",
        "# DENSITY OF THE MATRIX\n",
        "density = (x.nnz/(x.shape[0]*x.shape[1]))*100\n",
        "print(\"Density of the matrix = \",density)"
      ],
      "execution_count": 0,
      "outputs": [
        {
          "output_type": "stream",
          "text": [
            "Shape of the sparse matrix:  (264303, 182582)\n",
            "Non-Zero occurences:  6773848\n",
            "Density of the matrix =  0.014037035378375098\n"
          ],
          "name": "stdout"
        }
      ]
    },
    {
      "cell_type": "markdown",
      "metadata": {
        "id": "gdd7aYcgltM7",
        "colab_type": "text"
      },
      "source": [
        "(11). Splitting the dataset X into training and testing set:\n",
        "\n"
      ]
    },
    {
      "cell_type": "code",
      "metadata": {
        "id": "EIAXsstKlgNh",
        "colab_type": "code",
        "colab": {}
      },
      "source": [
        "# SPLITTING THE DATASET INTO TRAINING SET AND TESTING SET\n",
        "x_train,x_test,y_train,y_test = train_test_split(x,y,test_size=0.2,random_state=101)"
      ],
      "execution_count": 0,
      "outputs": []
    },
    {
      "cell_type": "markdown",
      "metadata": {
        "id": "PQWGCeYIlzhX",
        "colab_type": "text"
      },
      "source": [
        "MODELS"
      ]
    },
    {
      "cell_type": "markdown",
      "metadata": {
        "id": "guLuIBeSl0u6",
        "colab_type": "text"
      },
      "source": [
        "We will now use multiple Machine Algorithms to see which gives the best performance.\n",
        "\n"
      ]
    },
    {
      "cell_type": "markdown",
      "metadata": {
        "id": "XgPGhqG7l39a",
        "colab_type": "text"
      },
      "source": [
        "(1). Multinomial Naive Bayes - We are using Multinomial Naive Bayes over Gaussian because with sparse data, Gaussian Naive Bayes assumptions aren't met and a simple gaussian fit over the data will not give us a good fit or prediction!"
      ]
    },
    {
      "cell_type": "code",
      "metadata": {
        "id": "AnsPyx-1lvw-",
        "colab_type": "code",
        "outputId": "a8db8aa9-938c-4bec-e626-d9b515ef890b",
        "colab": {
          "base_uri": "https://localhost:8080/",
          "height": 272
        }
      },
      "source": [
        "# Multinomial Naive Bayes\n",
        "from sklearn.naive_bayes import MultinomialNB\n",
        "mnb = MultinomialNB()\n",
        "mnb.fit(x_train,y_train)\n",
        "predmnb = mnb.predict(x_test)\n",
        "print(\"Confusion Matrix for Multinomial Naive Bayes:\")\n",
        "print(confusion_matrix(y_test,predmnb))\n",
        "print(\"Score:\",round(accuracy_score(y_test,predmnb)*100,2))\n",
        "print(\"Classification Report:\",classification_report(y_test,predmnb))"
      ],
      "execution_count": 0,
      "outputs": [
        {
          "output_type": "stream",
          "text": [
            "Confusion Matrix for Multinomial Naive Bayes:\n",
            "[[15120  1178  3851]\n",
            " [ 3030  2399  4803]\n",
            " [ 2625  1025 18830]]\n",
            "Score: 68.76\n",
            "Classification Report:               precision    recall  f1-score   support\n",
            "\n",
            "           1       0.73      0.75      0.74     20149\n",
            "           3       0.52      0.23      0.32     10232\n",
            "           5       0.69      0.84      0.75     22480\n",
            "\n",
            "    accuracy                           0.69     52861\n",
            "   macro avg       0.64      0.61      0.61     52861\n",
            "weighted avg       0.67      0.69      0.66     52861\n",
            "\n"
          ],
          "name": "stdout"
        }
      ]
    },
    {
      "cell_type": "code",
      "metadata": {
        "colab_type": "code",
        "id": "ej3-cYxDz-tb",
        "outputId": "4fa7f1f0-29d5-418d-b693-58883ed16d2a",
        "colab": {
          "base_uri": "https://localhost:8080/",
          "height": 105
        }
      },
      "source": [
        "review= dataframe['reviews'][0]\n",
        "print(review)\n",
        "print(\"Actual Rating: \",dataframe['satisfaction'][0])\n",
        "review_t = vocab.transform([review])\n",
        "print(\"Predicted Rating:\")\n",
        "mnb.predict(review_t)[0]"
      ],
      "execution_count": 0,
      "outputs": [
        {
          "output_type": "stream",
          "text": [
            "I'm a retired physician and of all the meds I have tried for my allergies (seasonal and not) - this one is the most effective for me.  When I first began using this drug some years ago - tiredness as a problem but is not currently.\n",
            "Actual Rating:  5\n",
            "Predicted Rating:\n"
          ],
          "name": "stdout"
        },
        {
          "output_type": "execute_result",
          "data": {
            "text/plain": [
              "5"
            ]
          },
          "metadata": {
            "tags": []
          },
          "execution_count": 19
        }
      ]
    },
    {
      "cell_type": "code",
      "metadata": {
        "colab_type": "code",
        "id": "QmwlzuRBz-t6",
        "outputId": "7b69e686-0ca8-42f7-9118-3c3d6be6f539",
        "colab": {
          "base_uri": "https://localhost:8080/",
          "height": 102
        }
      },
      "source": [
        "review = dataframe['reviews'][2]\n",
        "print(review)\n",
        "print(\"Actual Rating: \",dataframe['satisfaction'][2])\n",
        "review_t = vocab.transform([review])\n",
        "print(\"Predicted Rating:\")\n",
        "mnb.predict(review_t)[0]"
      ],
      "execution_count": 0,
      "outputs": [
        {
          "output_type": "stream",
          "text": [
            "why did my PTINR go from a normal of 2.5 to over \n",
            "100?\n",
            "Actual Rating:  3\n",
            "Predicted Rating:\n"
          ],
          "name": "stdout"
        },
        {
          "output_type": "execute_result",
          "data": {
            "text/plain": [
              "5"
            ]
          },
          "metadata": {
            "tags": []
          },
          "execution_count": 20
        }
      ]
    },
    {
      "cell_type": "code",
      "metadata": {
        "colab_type": "code",
        "id": "zi-J8oBmz-uK",
        "outputId": "65816d94-6648-4e8d-9b94-59d68b7af66d",
        "colab": {
          "base_uri": "https://localhost:8080/",
          "height": 105
        }
      },
      "source": [
        "review = dataframe['reviews'][24]\n",
        "print(review)\n",
        "print(\"Actual Rating: \",dataframe['satisfaction'][24])\n",
        "review_t = vocab.transform([review])\n",
        "print(\"Predicted Rating:\")\n",
        "mnb.predict(review_t)[0]"
      ],
      "execution_count": 0,
      "outputs": [
        {
          "output_type": "stream",
          "text": [
            "I switched from the Mirena to Lyza and the relief from horrendous cramps was amazing and instantaneous. However, I have noticed slight weight gain (about 5 pounds), and have had severely tender breasts. Sometimes it will last over 1 month and they are sore to the point that moving my arms makes me cringe. The only other major side effect has been frequent bleeding and much heavier periods than usual.  I normally have a fairly light, short period (2 days normal bleeding, 1-2 of spotting). But there have been two occasions since starting Lyza in which I have woken up in a pool of blood on the bed because the bleeding is so heavy and unexpected. There has been some bloating as well, but I'm not sure if that is due to the pill because I had the same issue with Mirena. I have my suspicions about ovarian cysts, so that could be causing the bloating, breast tenderness, and abnormal bleeding. I rated ease of use as one star because it has been very difficult for me to remember to take the pill on time even though I set an alarm on my phone. However, it is still effective because I haven't gotten pregnant yet. I just make sure to use back up protection, or abstain for 3 days after taking a pill late. \n",
            "Actual Rating:  3\n",
            "Predicted Rating:\n"
          ],
          "name": "stdout"
        },
        {
          "output_type": "execute_result",
          "data": {
            "text/plain": [
              "3"
            ]
          },
          "metadata": {
            "tags": []
          },
          "execution_count": 21
        }
      ]
    },
    {
      "cell_type": "markdown",
      "metadata": {
        "id": "V4LlSNJCl9sY",
        "colab_type": "text"
      },
      "source": [
        "(2). Random Forest Classifier\n",
        "\n"
      ]
    },
    {
      "cell_type": "code",
      "metadata": {
        "id": "Oo6yOWoUl6t3",
        "colab_type": "code",
        "outputId": "c84a9297-1105-46c3-f314-3c05b950583b",
        "colab": {
          "base_uri": "https://localhost:8080/",
          "height": 306
        }
      },
      "source": [
        "# Random Forest\n",
        "from sklearn.ensemble import RandomForestClassifier\n",
        "rmfr = RandomForestClassifier()\n",
        "%time rmfr.fit(x_train,y_train)\n",
        "predrmfr = rmfr.predict(x_test)\n",
        "print(\"Confusion Matrix for Random Forest Classifier:\")\n",
        "print(confusion_matrix(y_test,predrmfr))\n",
        "print(\"Score:\",round(accuracy_score(y_test,predrmfr)*100,2))\n",
        "print(\"Classification Report:\",classification_report(y_test,predrmfr))"
      ],
      "execution_count": 0,
      "outputs": [
        {
          "output_type": "stream",
          "text": [
            "CPU times: user 1h 39min 26s, sys: 4.04 s, total: 1h 39min 30s\n",
            "Wall time: 1h 39min 35s\n",
            "Confusion Matrix for Random Forest Classifier:\n",
            "[[16850   309  2990]\n",
            " [ 2909  3287  4036]\n",
            " [ 2629   281 19570]]\n",
            "Score: 75.12\n",
            "Classification Report:               precision    recall  f1-score   support\n",
            "\n",
            "           1       0.75      0.84      0.79     20149\n",
            "           3       0.85      0.32      0.47     10232\n",
            "           5       0.74      0.87      0.80     22480\n",
            "\n",
            "    accuracy                           0.75     52861\n",
            "   macro avg       0.78      0.68      0.69     52861\n",
            "weighted avg       0.76      0.75      0.73     52861\n",
            "\n"
          ],
          "name": "stdout"
        }
      ]
    },
    {
      "cell_type": "code",
      "metadata": {
        "colab_type": "code",
        "id": "WLgMwgLW0M0s",
        "outputId": "0cb4d85f-65bc-4177-de15-cdae89647c6a",
        "colab": {
          "base_uri": "https://localhost:8080/",
          "height": 105
        }
      },
      "source": [
        "review = dataframe['reviews'][0]\n",
        "print(review)\n",
        "print(\"Actual Rating: \",dataframe['satisfaction'][0])\n",
        "review_t = vocab.transform([review])\n",
        "print(\"Predicted Rating:\")\n",
        "rmfr.predict(review_t)[0]"
      ],
      "execution_count": 0,
      "outputs": [
        {
          "output_type": "stream",
          "text": [
            "I'm a retired physician and of all the meds I have tried for my allergies (seasonal and not) - this one is the most effective for me.  When I first began using this drug some years ago - tiredness as a problem but is not currently.\n",
            "Actual Rating:  5\n",
            "Predicted Rating:\n"
          ],
          "name": "stdout"
        },
        {
          "output_type": "execute_result",
          "data": {
            "text/plain": [
              "5"
            ]
          },
          "metadata": {
            "tags": []
          },
          "execution_count": 24
        }
      ]
    },
    {
      "cell_type": "code",
      "metadata": {
        "colab_type": "code",
        "id": "K5b6TBIz0M1R",
        "outputId": "e97372ba-2f06-4682-b5a7-d448dbbeec8e",
        "colab": {
          "base_uri": "https://localhost:8080/",
          "height": 102
        }
      },
      "source": [
        "review = dataframe['reviews'][2]\n",
        "print(review)\n",
        "print(\"Actual Rating: \",dataframe['satisfaction'][2])\n",
        "review_t = vocab.transform([review])\n",
        "print(\"Predicted Rating:\")\n",
        "rmfr.predict(review_t)[0]"
      ],
      "execution_count": 0,
      "outputs": [
        {
          "output_type": "stream",
          "text": [
            "why did my PTINR go from a normal of 2.5 to over \n",
            "100?\n",
            "Actual Rating:  3\n",
            "Predicted Rating:\n"
          ],
          "name": "stdout"
        },
        {
          "output_type": "execute_result",
          "data": {
            "text/plain": [
              "3"
            ]
          },
          "metadata": {
            "tags": []
          },
          "execution_count": 25
        }
      ]
    },
    {
      "cell_type": "code",
      "metadata": {
        "colab_type": "code",
        "id": "Z68_Za0C0M1h",
        "outputId": "40001c91-bf6a-436e-dda3-2a653f2e9f8c",
        "colab": {
          "base_uri": "https://localhost:8080/",
          "height": 105
        }
      },
      "source": [
        "review = dataframe['reviews'][24]\n",
        "print(review)\n",
        "print(\"Actual Rating: \",dataframe['satisfaction'][24])\n",
        "review_t = vocab.transform([review])\n",
        "print(\"Predicted Rating:\")\n",
        "rmfr.predict(review_t)[0]"
      ],
      "execution_count": 0,
      "outputs": [
        {
          "output_type": "stream",
          "text": [
            "I switched from the Mirena to Lyza and the relief from horrendous cramps was amazing and instantaneous. However, I have noticed slight weight gain (about 5 pounds), and have had severely tender breasts. Sometimes it will last over 1 month and they are sore to the point that moving my arms makes me cringe. The only other major side effect has been frequent bleeding and much heavier periods than usual.  I normally have a fairly light, short period (2 days normal bleeding, 1-2 of spotting). But there have been two occasions since starting Lyza in which I have woken up in a pool of blood on the bed because the bleeding is so heavy and unexpected. There has been some bloating as well, but I'm not sure if that is due to the pill because I had the same issue with Mirena. I have my suspicions about ovarian cysts, so that could be causing the bloating, breast tenderness, and abnormal bleeding. I rated ease of use as one star because it has been very difficult for me to remember to take the pill on time even though I set an alarm on my phone. However, it is still effective because I haven't gotten pregnant yet. I just make sure to use back up protection, or abstain for 3 days after taking a pill late. \n",
            "Actual Rating:  3\n",
            "Predicted Rating:\n"
          ],
          "name": "stdout"
        },
        {
          "output_type": "execute_result",
          "data": {
            "text/plain": [
              "3"
            ]
          },
          "metadata": {
            "tags": []
          },
          "execution_count": 26
        }
      ]
    },
    {
      "cell_type": "markdown",
      "metadata": {
        "id": "s2oCMvHnmDYl",
        "colab_type": "text"
      },
      "source": [
        "(3). Decision Tree\n",
        "\n"
      ]
    },
    {
      "cell_type": "code",
      "metadata": {
        "id": "oZMnxgb1mAEw",
        "colab_type": "code",
        "outputId": "70d50b5f-e478-4c2d-e807-0b2b17b6cd98",
        "colab": {
          "base_uri": "https://localhost:8080/",
          "height": 306
        }
      },
      "source": [
        "# Decision Tree\n",
        "from sklearn.tree import DecisionTreeClassifier\n",
        "dt = DecisionTreeClassifier()\n",
        "%time dt.fit(x_train,y_train)\n",
        "preddt = dt.predict(x_test)\n",
        "print(\"Confusion Matrix for Decision Tree:\")\n",
        "print(confusion_matrix(y_test,preddt))\n",
        "print(\"Score:\",round(accuracy_score(y_test,preddt)*100,2))\n",
        "print(\"Classification Report:\",classification_report(y_test,preddt))"
      ],
      "execution_count": 0,
      "outputs": [
        {
          "output_type": "stream",
          "text": [
            "CPU times: user 12min 1s, sys: 201 ms, total: 12min 1s\n",
            "Wall time: 12min 1s\n",
            "Confusion Matrix for Decision Tree:\n",
            "[[14045  1925  4179]\n",
            " [ 2176  4244  3812]\n",
            " [ 3318  1934 17228]]\n",
            "Score: 67.19\n",
            "Classification Report:               precision    recall  f1-score   support\n",
            "\n",
            "           1       0.72      0.70      0.71     20149\n",
            "           3       0.52      0.41      0.46     10232\n",
            "           5       0.68      0.77      0.72     22480\n",
            "\n",
            "    accuracy                           0.67     52861\n",
            "   macro avg       0.64      0.63      0.63     52861\n",
            "weighted avg       0.67      0.67      0.67     52861\n",
            "\n"
          ],
          "name": "stdout"
        }
      ]
    },
    {
      "cell_type": "code",
      "metadata": {
        "colab_type": "code",
        "id": "KIf8BsNI0Xwc",
        "outputId": "f850a7df-8c11-4b5f-90d0-95d508ba916b",
        "colab": {
          "base_uri": "https://localhost:8080/",
          "height": 105
        }
      },
      "source": [
        "review = dataframe['reviews'][0]\n",
        "print(review)\n",
        "print(\"Actual Rating: \",dataframe['satisfaction'][0])\n",
        "review_t = vocab.transform([review])\n",
        "print(\"Predicted Rating:\")\n",
        "dt.predict(review_t)[0]"
      ],
      "execution_count": 0,
      "outputs": [
        {
          "output_type": "stream",
          "text": [
            "I'm a retired physician and of all the meds I have tried for my allergies (seasonal and not) - this one is the most effective for me.  When I first began using this drug some years ago - tiredness as a problem but is not currently.\n",
            "Actual Rating:  5\n",
            "Predicted Rating:\n"
          ],
          "name": "stdout"
        },
        {
          "output_type": "execute_result",
          "data": {
            "text/plain": [
              "5"
            ]
          },
          "metadata": {
            "tags": []
          },
          "execution_count": 29
        }
      ]
    },
    {
      "cell_type": "code",
      "metadata": {
        "colab_type": "code",
        "id": "xpmUAZnt0Xwp",
        "outputId": "7505d1a2-a275-4d0d-a5d1-bc45c6ac689f",
        "colab": {
          "base_uri": "https://localhost:8080/",
          "height": 102
        }
      },
      "source": [
        "review = dataframe['reviews'][2]\n",
        "print(review)\n",
        "print(\"Actual Rating: \",dataframe['satisfaction'][2])\n",
        "review_t = vocab.transform([review])\n",
        "print(\"Predicted Rating:\")\n",
        "dt.predict(review_t)[0]"
      ],
      "execution_count": 0,
      "outputs": [
        {
          "output_type": "stream",
          "text": [
            "why did my PTINR go from a normal of 2.5 to over \n",
            "100?\n",
            "Actual Rating:  3\n",
            "Predicted Rating:\n"
          ],
          "name": "stdout"
        },
        {
          "output_type": "execute_result",
          "data": {
            "text/plain": [
              "3"
            ]
          },
          "metadata": {
            "tags": []
          },
          "execution_count": 30
        }
      ]
    },
    {
      "cell_type": "code",
      "metadata": {
        "colab_type": "code",
        "id": "moI3H4Vd0Xw0",
        "outputId": "1b4b1ef5-ed28-4824-d25c-21a12a59cc5d",
        "colab": {
          "base_uri": "https://localhost:8080/",
          "height": 105
        }
      },
      "source": [
        "review = dataframe['reviews'][24]\n",
        "print(review)\n",
        "print(\"Actual Rating: \",dataframe['satisfaction'][24])\n",
        "review_t = vocab.transform([review])\n",
        "print(\"Predicted Rating:\")\n",
        "dt.predict(review_t)[0]"
      ],
      "execution_count": 0,
      "outputs": [
        {
          "output_type": "stream",
          "text": [
            "I switched from the Mirena to Lyza and the relief from horrendous cramps was amazing and instantaneous. However, I have noticed slight weight gain (about 5 pounds), and have had severely tender breasts. Sometimes it will last over 1 month and they are sore to the point that moving my arms makes me cringe. The only other major side effect has been frequent bleeding and much heavier periods than usual.  I normally have a fairly light, short period (2 days normal bleeding, 1-2 of spotting). But there have been two occasions since starting Lyza in which I have woken up in a pool of blood on the bed because the bleeding is so heavy and unexpected. There has been some bloating as well, but I'm not sure if that is due to the pill because I had the same issue with Mirena. I have my suspicions about ovarian cysts, so that could be causing the bloating, breast tenderness, and abnormal bleeding. I rated ease of use as one star because it has been very difficult for me to remember to take the pill on time even though I set an alarm on my phone. However, it is still effective because I haven't gotten pregnant yet. I just make sure to use back up protection, or abstain for 3 days after taking a pill late. \n",
            "Actual Rating:  3\n",
            "Predicted Rating:\n"
          ],
          "name": "stdout"
        },
        {
          "output_type": "execute_result",
          "data": {
            "text/plain": [
              "3"
            ]
          },
          "metadata": {
            "tags": []
          },
          "execution_count": 31
        }
      ]
    },
    {
      "cell_type": "markdown",
      "metadata": {
        "colab_type": "text",
        "id": "xwvl304B1CGc"
      },
      "source": [
        "(4). K - Nearest Neighbor Classifier\n",
        "\n"
      ]
    },
    {
      "cell_type": "code",
      "metadata": {
        "colab_type": "code",
        "id": "jv3DU46P1CGj",
        "outputId": "1f27b7b8-efa4-4c4a-c7fd-826d31eb201d",
        "colab": {
          "base_uri": "https://localhost:8080/",
          "height": 323
        }
      },
      "source": [
        "# K Nearest Neighbour Algorithm\n",
        "from sklearn.neighbors import KNeighborsClassifier\n",
        "knn = KNeighborsClassifier(n_neighbors=10)\n",
        "%time knn.fit(x_train,y_train)\n",
        "predknn = knn.predict(x_test)\n",
        "print(\"Confusion Matrix for K Neighbors Classifier:\")\n",
        "print(confusion_matrix(y_test,predknn))\n",
        "print(\"Score: \",round(accuracy_score(y_test,predknn)*100,2))\n",
        "print(\"Classification Report:\")\n",
        "print(classification_report(y_test,predknn))"
      ],
      "execution_count": 0,
      "outputs": [
        {
          "output_type": "stream",
          "text": [
            "CPU times: user 48.3 ms, sys: 884 µs, total: 49.2 ms\n",
            "Wall time: 52.5 ms\n",
            "Confusion Matrix for K Neighbors Classifier:\n",
            "[[10418  3000  6731]\n",
            " [ 2657  2468  5107]\n",
            " [ 4023  2532 15925]]\n",
            "Score:  54.5\n",
            "Classification Report:\n",
            "              precision    recall  f1-score   support\n",
            "\n",
            "           1       0.61      0.52      0.56     20149\n",
            "           3       0.31      0.24      0.27     10232\n",
            "           5       0.57      0.71      0.63     22480\n",
            "\n",
            "    accuracy                           0.55     52861\n",
            "   macro avg       0.50      0.49      0.49     52861\n",
            "weighted avg       0.54      0.55      0.54     52861\n",
            "\n"
          ],
          "name": "stdout"
        }
      ]
    },
    {
      "cell_type": "code",
      "metadata": {
        "colab_type": "code",
        "id": "pHjDry-H1MVw",
        "outputId": "604959a9-6c74-4b17-8026-7a2db2c87ca8",
        "colab": {
          "base_uri": "https://localhost:8080/",
          "height": 105
        }
      },
      "source": [
        "review = dataframe['reviews'][0]\n",
        "print(review)\n",
        "print(\"Actual Rating: \",dataframe['satisfaction'][0])\n",
        "review_t = vocab.transform([review])\n",
        "print(\"Predicted Rating:\")\n",
        "knn.predict(review_t)[0]"
      ],
      "execution_count": 0,
      "outputs": [
        {
          "output_type": "stream",
          "text": [
            "I'm a retired physician and of all the meds I have tried for my allergies (seasonal and not) - this one is the most effective for me.  When I first began using this drug some years ago - tiredness as a problem but is not currently.\n",
            "Actual Rating:  5\n",
            "Predicted Rating:\n"
          ],
          "name": "stdout"
        },
        {
          "output_type": "execute_result",
          "data": {
            "text/plain": [
              "5"
            ]
          },
          "metadata": {
            "tags": []
          },
          "execution_count": 34
        }
      ]
    },
    {
      "cell_type": "code",
      "metadata": {
        "colab_type": "code",
        "id": "QtekQ_7W1MWB",
        "outputId": "49a15dea-243b-4462-d779-647cd22b0af5",
        "colab": {
          "base_uri": "https://localhost:8080/",
          "height": 102
        }
      },
      "source": [
        "review = dataframe['reviews'][2]\n",
        "print(review)\n",
        "print(\"Actual Rating: \",dataframe['satisfaction'][2])\n",
        "review_t = vocab.transform([review])\n",
        "print(\"Predicted Rating:\")\n",
        "knn.predict(review_t)[0]"
      ],
      "execution_count": 0,
      "outputs": [
        {
          "output_type": "stream",
          "text": [
            "why did my PTINR go from a normal of 2.5 to over \n",
            "100?\n",
            "Actual Rating:  3\n",
            "Predicted Rating:\n"
          ],
          "name": "stdout"
        },
        {
          "output_type": "execute_result",
          "data": {
            "text/plain": [
              "5"
            ]
          },
          "metadata": {
            "tags": []
          },
          "execution_count": 35
        }
      ]
    },
    {
      "cell_type": "code",
      "metadata": {
        "colab_type": "code",
        "id": "8aXaMXj01MWN",
        "outputId": "7a2475b8-f379-4c9e-85c9-27793631a404",
        "colab": {
          "base_uri": "https://localhost:8080/",
          "height": 105
        }
      },
      "source": [
        "review = dataframe['reviews'][24]\n",
        "print(review)\n",
        "print(\"Actual Rating: \",dataframe['satisfaction'][24])\n",
        "review_t = vocab.transform([review])\n",
        "print(\"Predicted Rating:\")\n",
        "knn.predict(review_t)[0]"
      ],
      "execution_count": 0,
      "outputs": [
        {
          "output_type": "stream",
          "text": [
            "I switched from the Mirena to Lyza and the relief from horrendous cramps was amazing and instantaneous. However, I have noticed slight weight gain (about 5 pounds), and have had severely tender breasts. Sometimes it will last over 1 month and they are sore to the point that moving my arms makes me cringe. The only other major side effect has been frequent bleeding and much heavier periods than usual.  I normally have a fairly light, short period (2 days normal bleeding, 1-2 of spotting). But there have been two occasions since starting Lyza in which I have woken up in a pool of blood on the bed because the bleeding is so heavy and unexpected. There has been some bloating as well, but I'm not sure if that is due to the pill because I had the same issue with Mirena. I have my suspicions about ovarian cysts, so that could be causing the bloating, breast tenderness, and abnormal bleeding. I rated ease of use as one star because it has been very difficult for me to remember to take the pill on time even though I set an alarm on my phone. However, it is still effective because I haven't gotten pregnant yet. I just make sure to use back up protection, or abstain for 3 days after taking a pill late. \n",
            "Actual Rating:  3\n",
            "Predicted Rating:\n"
          ],
          "name": "stdout"
        },
        {
          "output_type": "execute_result",
          "data": {
            "text/plain": [
              "1"
            ]
          },
          "metadata": {
            "tags": []
          },
          "execution_count": 36
        }
      ]
    },
    {
      "cell_type": "markdown",
      "metadata": {
        "colab_type": "text",
        "id": "mFOsNb0R1CGx"
      },
      "source": [
        "(5). XGBoost Classifier\n",
        "\n"
      ]
    },
    {
      "cell_type": "code",
      "metadata": {
        "colab_type": "code",
        "id": "3bxaofUW1CGz",
        "outputId": "736d50f9-203e-473a-e9c1-7fc294cd69a4",
        "colab": {
          "base_uri": "https://localhost:8080/",
          "height": 323
        }
      },
      "source": [
        "# XGBoost Classifier\n",
        "import xgboost\n",
        "from xgboost import XGBClassifier\n",
        "xgb = XGBClassifier()\n",
        "%time xgb.fit(x_train,y_train)\n",
        "predxgb = xgb.predict(x_test)\n",
        "print(\"Confusion Matrix for XGBoost Classifier:\")\n",
        "print(confusion_matrix(y_test,predxgb))\n",
        "print(\"Score: \",round(accuracy_score(y_test,predxgb)*100,2))\n",
        "print(\"Classification Report:\")\n",
        "print(classification_report(y_test,predxgb))"
      ],
      "execution_count": 0,
      "outputs": [
        {
          "output_type": "stream",
          "text": [
            "CPU times: user 2min 26s, sys: 161 ms, total: 2min 26s\n",
            "Wall time: 2min 27s\n",
            "Confusion Matrix for XGBoost Classifier:\n",
            "[[11676   111  8362]\n",
            " [ 2862   337  7033]\n",
            " [ 2942   117 19421]]\n",
            "Score:  59.47\n",
            "Classification Report:\n",
            "              precision    recall  f1-score   support\n",
            "\n",
            "           1       0.67      0.58      0.62     20149\n",
            "           3       0.60      0.03      0.06     10232\n",
            "           5       0.56      0.86      0.68     22480\n",
            "\n",
            "    accuracy                           0.59     52861\n",
            "   macro avg       0.61      0.49      0.45     52861\n",
            "weighted avg       0.61      0.59      0.54     52861\n",
            "\n"
          ],
          "name": "stdout"
        }
      ]
    },
    {
      "cell_type": "code",
      "metadata": {
        "colab_type": "code",
        "id": "pA9zP3Ri1UR8",
        "outputId": "b173abf8-1ffd-42fb-84dc-2c7a148a12e2",
        "colab": {
          "base_uri": "https://localhost:8080/",
          "height": 105
        }
      },
      "source": [
        "review = dataframe['reviews'][0]\n",
        "print(review)\n",
        "print(\"Actual Rating: \",dataframe['satisfaction'][0])\n",
        "review_t = vocab.transform([review])\n",
        "print(\"Predicted Rating:\")\n",
        "xgb.predict(review_t)[0]"
      ],
      "execution_count": 0,
      "outputs": [
        {
          "output_type": "stream",
          "text": [
            "I'm a retired physician and of all the meds I have tried for my allergies (seasonal and not) - this one is the most effective for me.  When I first began using this drug some years ago - tiredness as a problem but is not currently.\n",
            "Actual Rating:  5\n",
            "Predicted Rating:\n"
          ],
          "name": "stdout"
        },
        {
          "output_type": "execute_result",
          "data": {
            "text/plain": [
              "5"
            ]
          },
          "metadata": {
            "tags": []
          },
          "execution_count": 39
        }
      ]
    },
    {
      "cell_type": "code",
      "metadata": {
        "colab_type": "code",
        "id": "K63KSjkM1UST",
        "outputId": "8636645c-032f-4352-a0c2-59e58d6d781e",
        "colab": {
          "base_uri": "https://localhost:8080/",
          "height": 102
        }
      },
      "source": [
        "review = dataframe['reviews'][2]\n",
        "print(review)\n",
        "print(\"Actual Rating: \",dataframe['satisfaction'][2])\n",
        "review_t = vocab.transform([review])\n",
        "print(\"Predicted Rating:\")\n",
        "xgb.predict(review_t)[0]"
      ],
      "execution_count": 0,
      "outputs": [
        {
          "output_type": "stream",
          "text": [
            "why did my PTINR go from a normal of 2.5 to over \n",
            "100?\n",
            "Actual Rating:  3\n",
            "Predicted Rating:\n"
          ],
          "name": "stdout"
        },
        {
          "output_type": "execute_result",
          "data": {
            "text/plain": [
              "5"
            ]
          },
          "metadata": {
            "tags": []
          },
          "execution_count": 40
        }
      ]
    },
    {
      "cell_type": "code",
      "metadata": {
        "colab_type": "code",
        "id": "QMLMTXf31USx",
        "outputId": "eb07bf4e-734d-4c7e-dee1-9d1948f2d982",
        "colab": {
          "base_uri": "https://localhost:8080/",
          "height": 105
        }
      },
      "source": [
        "review = dataframe['reviews'][24]\n",
        "print(review)\n",
        "print(\"Actual Rating: \",dataframe['satisfaction'][24])\n",
        "review_t = vocab.transform([review])\n",
        "print(\"Predicted Rating:\")\n",
        "xgb.predict(review_t)[0]"
      ],
      "execution_count": 0,
      "outputs": [
        {
          "output_type": "stream",
          "text": [
            "I switched from the Mirena to Lyza and the relief from horrendous cramps was amazing and instantaneous. However, I have noticed slight weight gain (about 5 pounds), and have had severely tender breasts. Sometimes it will last over 1 month and they are sore to the point that moving my arms makes me cringe. The only other major side effect has been frequent bleeding and much heavier periods than usual.  I normally have a fairly light, short period (2 days normal bleeding, 1-2 of spotting). But there have been two occasions since starting Lyza in which I have woken up in a pool of blood on the bed because the bleeding is so heavy and unexpected. There has been some bloating as well, but I'm not sure if that is due to the pill because I had the same issue with Mirena. I have my suspicions about ovarian cysts, so that could be causing the bloating, breast tenderness, and abnormal bleeding. I rated ease of use as one star because it has been very difficult for me to remember to take the pill on time even though I set an alarm on my phone. However, it is still effective because I haven't gotten pregnant yet. I just make sure to use back up protection, or abstain for 3 days after taking a pill late. \n",
            "Actual Rating:  3\n",
            "Predicted Rating:\n"
          ],
          "name": "stdout"
        },
        {
          "output_type": "execute_result",
          "data": {
            "text/plain": [
              "3"
            ]
          },
          "metadata": {
            "tags": []
          },
          "execution_count": 41
        }
      ]
    },
    {
      "cell_type": "markdown",
      "metadata": {
        "id": "vqjNL3dbmIBY",
        "colab_type": "text"
      },
      "source": [
        "(6). Support Vector Machines\n",
        "\n"
      ]
    },
    {
      "cell_type": "code",
      "metadata": {
        "id": "mbyL68zjmFdP",
        "colab_type": "code",
        "outputId": "9e500d3a-0d30-4094-cd91-0a54e6575270",
        "colab": {
          "base_uri": "https://localhost:8080/",
          "height": 306
        }
      },
      "source": [
        "# Support Vector Machine\n",
        "from sklearn.svm import SVC\n",
        "svm = SVC(random_state=101)\n",
        "%time svm.fit(x_train,y_train)\n",
        "predsvm = svm.predict(x_test)\n",
        "print(\"Confusion Matrix for Support Vector Machines:\")\n",
        "print(confusion_matrix(y_test,predsvm))\n",
        "print(\"Score:\",round(accuracy_score(y_test,predsvm)*100,2))\n",
        "print(\"Classification Report:\",classification_report(y_test,predsvm))"
      ],
      "execution_count": 0,
      "outputs": [
        {
          "output_type": "stream",
          "text": [
            "CPU times: user 10h 11min 21s, sys: 20.1 s, total: 10h 11min 41s\n",
            "Wall time: 10h 12min 16s\n",
            "Confusion Matrix for Support Vector Machines:\n",
            "[[15682   654  3813]\n",
            " [ 2548  2836  4848]\n",
            " [ 2133   562 19785]]\n",
            "Score: 72.46\n",
            "Classification Report:               precision    recall  f1-score   support\n",
            "\n",
            "           1       0.77      0.78      0.77     20149\n",
            "           3       0.70      0.28      0.40     10232\n",
            "           5       0.70      0.88      0.78     22480\n",
            "\n",
            "    accuracy                           0.72     52861\n",
            "   macro avg       0.72      0.65      0.65     52861\n",
            "weighted avg       0.72      0.72      0.70     52861\n",
            "\n"
          ],
          "name": "stdout"
        }
      ]
    },
    {
      "cell_type": "code",
      "metadata": {
        "colab_type": "code",
        "id": "qTXY2nAvJLsc",
        "outputId": "c345e8ee-bef4-4981-d43a-c0837e58be17",
        "colab": {
          "base_uri": "https://localhost:8080/",
          "height": 105
        }
      },
      "source": [
        "review = dataframe['reviews'][0]\n",
        "print(review)\n",
        "print(\"Actual Rating: \",dataframe['satisfaction'][0])\n",
        "review_t = vocab.transform([review])\n",
        "print(\"Predicted Rating:\")\n",
        "svm.predict(review_t)[0]"
      ],
      "execution_count": 0,
      "outputs": [
        {
          "output_type": "stream",
          "text": [
            "I'm a retired physician and of all the meds I have tried for my allergies (seasonal and not) - this one is the most effective for me.  When I first began using this drug some years ago - tiredness as a problem but is not currently.\n",
            "Actual Rating:  5\n",
            "Predicted Rating:\n"
          ],
          "name": "stdout"
        },
        {
          "output_type": "execute_result",
          "data": {
            "text/plain": [
              "5"
            ]
          },
          "metadata": {
            "tags": []
          },
          "execution_count": 15
        }
      ]
    },
    {
      "cell_type": "code",
      "metadata": {
        "colab_type": "code",
        "id": "X-UcWie6JLtr",
        "outputId": "52f71155-12b4-4cb6-d2e8-6a584e92d34a",
        "colab": {
          "base_uri": "https://localhost:8080/",
          "height": 102
        }
      },
      "source": [
        "review = dataframe['reviews'][2]\n",
        "print(review)\n",
        "print(\"Actual Rating: \",dataframe['satisfaction'][2])\n",
        "review_t = vocab.transform([review])\n",
        "print(\"Predicted Rating:\")\n",
        "svm.predict(review_t)[0]"
      ],
      "execution_count": 0,
      "outputs": [
        {
          "output_type": "stream",
          "text": [
            "why did my PTINR go from a normal of 2.5 to over \n",
            "100?\n",
            "Actual Rating:  3\n",
            "Predicted Rating:\n"
          ],
          "name": "stdout"
        },
        {
          "output_type": "execute_result",
          "data": {
            "text/plain": [
              "5"
            ]
          },
          "metadata": {
            "tags": []
          },
          "execution_count": 16
        }
      ]
    },
    {
      "cell_type": "code",
      "metadata": {
        "colab_type": "code",
        "id": "kw9El6YdJLuB",
        "outputId": "da3bed45-4885-4c97-d183-b453e3688f4c",
        "colab": {
          "base_uri": "https://localhost:8080/",
          "height": 105
        }
      },
      "source": [
        "review = dataframe['reviews'][24]\n",
        "print(review)\n",
        "print(\"Actual Rating: \",dataframe['satisfaction'][24])\n",
        "review_t = vocab.transform([review])\n",
        "print(\"Predicted Rating:\")\n",
        "svm.predict(review_t)[0]"
      ],
      "execution_count": 0,
      "outputs": [
        {
          "output_type": "stream",
          "text": [
            "I switched from the Mirena to Lyza and the relief from horrendous cramps was amazing and instantaneous. However, I have noticed slight weight gain (about 5 pounds), and have had severely tender breasts. Sometimes it will last over 1 month and they are sore to the point that moving my arms makes me cringe. The only other major side effect has been frequent bleeding and much heavier periods than usual.  I normally have a fairly light, short period (2 days normal bleeding, 1-2 of spotting). But there have been two occasions since starting Lyza in which I have woken up in a pool of blood on the bed because the bleeding is so heavy and unexpected. There has been some bloating as well, but I'm not sure if that is due to the pill because I had the same issue with Mirena. I have my suspicions about ovarian cysts, so that could be causing the bloating, breast tenderness, and abnormal bleeding. I rated ease of use as one star because it has been very difficult for me to remember to take the pill on time even though I set an alarm on my phone. However, it is still effective because I haven't gotten pregnant yet. I just make sure to use back up protection, or abstain for 3 days after taking a pill late. \n",
            "Actual Rating:  3\n",
            "Predicted Rating:\n"
          ],
          "name": "stdout"
        },
        {
          "output_type": "execute_result",
          "data": {
            "text/plain": [
              "3"
            ]
          },
          "metadata": {
            "tags": []
          },
          "execution_count": 17
        }
      ]
    },
    {
      "cell_type": "markdown",
      "metadata": {
        "id": "eRzVTnKHmO0O",
        "colab_type": "text"
      },
      "source": [
        "(7). Gradient Boosting Classifier\n",
        "\n"
      ]
    },
    {
      "cell_type": "code",
      "metadata": {
        "id": "iYhTQmHDmLR0",
        "colab_type": "code",
        "outputId": "32a65609-b953-4f54-b9fc-d928fb9a5fc3",
        "colab": {
          "base_uri": "https://localhost:8080/",
          "height": 306
        }
      },
      "source": [
        "# Gradient Boosting Classifier\n",
        "from sklearn.ensemble import GradientBoostingClassifier\n",
        "\"\"\"# parameter evaluation\n",
        "gbe = GradientBoostingClassifier(random_state=0)\n",
        "parameters = {\n",
        "     'learning_rate': [0.05, 0.1, 0.5],\n",
        "    'max_features': [0.5, 1],\n",
        "    'max_depth': [3, 4, 5]}\n",
        "gridsearch=GridSearchCV(gbe,parameters,cv=100,scoring='roc_auc')\n",
        "gridsearch.fit(x,y)\n",
        "print(gridsearch.best_params_)\n",
        "print(gridsearch.best_score_)\"\"\"\n",
        "#Boosting\n",
        "gbi = GradientBoostingClassifier(learning_rate=0.1,max_depth=5,max_features=0.5,random_state=999999)\n",
        "%time gbi.fit(x_train,y_train)\n",
        "predgbi = gbi.predict(x_test)\n",
        "print(\"Confusion Matrix for Gradient Boosting Classifier:\")\n",
        "print(confusion_matrix(y_test,predgbi))\n",
        "print(\"Score:\",round(accuracy_score(y_test,predgbi)*100,2))\n",
        "print(\"Classification Report:\",classification_report(y_test,predgbi))"
      ],
      "execution_count": 0,
      "outputs": [
        {
          "output_type": "stream",
          "text": [
            "CPU times: user 4h 54min 44s, sys: 2.33 s, total: 4h 54min 46s\n",
            "Wall time: 4h 54min 57s\n",
            "Confusion Matrix for Gradient Boosting Classifier:\n",
            "[[12832   322  6995]\n",
            " [ 2949   782  6501]\n",
            " [ 2793   287 19400]]\n",
            "Score: 62.45\n",
            "Classification Report:               precision    recall  f1-score   support\n",
            "\n",
            "           1       0.69      0.64      0.66     20149\n",
            "           3       0.56      0.08      0.13     10232\n",
            "           5       0.59      0.86      0.70     22480\n",
            "\n",
            "    accuracy                           0.62     52861\n",
            "   macro avg       0.61      0.53      0.50     52861\n",
            "weighted avg       0.62      0.62      0.58     52861\n",
            "\n"
          ],
          "name": "stdout"
        }
      ]
    },
    {
      "cell_type": "code",
      "metadata": {
        "id": "R-tetikamllY",
        "colab_type": "code",
        "outputId": "b6de482e-e000-409c-8f7d-8cec3e92bf80",
        "colab": {
          "base_uri": "https://localhost:8080/",
          "height": 105
        }
      },
      "source": [
        "review = dataframe['reviews'][0]\n",
        "print(review)\n",
        "print(\"Actual Rating: \",dataframe['satisfaction'][0])\n",
        "review_t = vocab.transform([review])\n",
        "print(\"Predicted Rating:\")\n",
        "gbi.predict(review_t)[0]"
      ],
      "execution_count": 0,
      "outputs": [
        {
          "output_type": "stream",
          "text": [
            "I'm a retired physician and of all the meds I have tried for my allergies (seasonal and not) - this one is the most effective for me.  When I first began using this drug some years ago - tiredness as a problem but is not currently.\n",
            "Actual Rating:  5\n",
            "Predicted Rating:\n"
          ],
          "name": "stdout"
        },
        {
          "output_type": "execute_result",
          "data": {
            "text/plain": [
              "5"
            ]
          },
          "metadata": {
            "tags": []
          },
          "execution_count": 20
        }
      ]
    },
    {
      "cell_type": "code",
      "metadata": {
        "id": "vtAjOK3am2pi",
        "colab_type": "code",
        "outputId": "c84ab76c-884d-4336-c113-df5c1ec942c9",
        "colab": {
          "base_uri": "https://localhost:8080/",
          "height": 102
        }
      },
      "source": [
        "review = dataframe['reviews'][2]\n",
        "print(review)\n",
        "print(\"Actual Rating: \",dataframe['satisfaction'][2])\n",
        "review_t = vocab.transform([review])\n",
        "print(\"Predicted Rating:\")\n",
        "gbi.predict(review_t)[0]"
      ],
      "execution_count": 0,
      "outputs": [
        {
          "output_type": "stream",
          "text": [
            "why did my PTINR go from a normal of 2.5 to over \n",
            "100?\n",
            "Actual Rating:  3\n",
            "Predicted Rating:\n"
          ],
          "name": "stdout"
        },
        {
          "output_type": "execute_result",
          "data": {
            "text/plain": [
              "5"
            ]
          },
          "metadata": {
            "tags": []
          },
          "execution_count": 21
        }
      ]
    },
    {
      "cell_type": "code",
      "metadata": {
        "id": "Y1b7inSJnFsO",
        "colab_type": "code",
        "outputId": "29123efd-925a-4a3e-849d-a5b985ad2e99",
        "colab": {
          "base_uri": "https://localhost:8080/",
          "height": 105
        }
      },
      "source": [
        "review= dataframe['reviews'][24]\n",
        "print(review)\n",
        "print(\"Actual Rating: \",dataframe['satisfaction'][24])\n",
        "review_t = vocab.transform([review])\n",
        "print(\"Predicted Rating:\")\n",
        "gbi.predict(review_t)[0]"
      ],
      "execution_count": 0,
      "outputs": [
        {
          "output_type": "stream",
          "text": [
            "I switched from the Mirena to Lyza and the relief from horrendous cramps was amazing and instantaneous. However, I have noticed slight weight gain (about 5 pounds), and have had severely tender breasts. Sometimes it will last over 1 month and they are sore to the point that moving my arms makes me cringe. The only other major side effect has been frequent bleeding and much heavier periods than usual.  I normally have a fairly light, short period (2 days normal bleeding, 1-2 of spotting). But there have been two occasions since starting Lyza in which I have woken up in a pool of blood on the bed because the bleeding is so heavy and unexpected. There has been some bloating as well, but I'm not sure if that is due to the pill because I had the same issue with Mirena. I have my suspicions about ovarian cysts, so that could be causing the bloating, breast tenderness, and abnormal bleeding. I rated ease of use as one star because it has been very difficult for me to remember to take the pill on time even though I set an alarm on my phone. However, it is still effective because I haven't gotten pregnant yet. I just make sure to use back up protection, or abstain for 3 days after taking a pill late. \n",
            "Actual Rating:  3\n",
            "Predicted Rating:\n"
          ],
          "name": "stdout"
        },
        {
          "output_type": "execute_result",
          "data": {
            "text/plain": [
              "3"
            ]
          },
          "metadata": {
            "tags": []
          },
          "execution_count": 22
        }
      ]
    },
    {
      "cell_type": "markdown",
      "metadata": {
        "id": "z2fyViW2mrg1",
        "colab_type": "text"
      },
      "source": [
        "Comparing the results from different algorithms, ordered by accuracy:\n",
        "\n",
        "* Random Forest Classifier = 75.12%\n",
        "* Support Vector Machine  = 72.46%\n",
        "* Multinomial Naive Bayes = 67.76%\n",
        "* Decision Tree = 67.19%\n",
        "* Gradient Boosting Classifier = 62.45%\n",
        "* XGBoost Classifier = 59.47%\n",
        "* K Nearest Neighbor Classifier = 54.5%\n",
        "\n",
        "If we order the different models by the values for accuracy as metrics, we can see that Random Forest Classifier gives the best results despite that there is a small difference comparing with the SVM model.\n",
        "\n",
        "SVM has had the longest execution time (10h 11min)."
      ]
    },
    {
      "cell_type": "code",
      "metadata": {
        "id": "3rUmoEHvnUTt",
        "colab_type": "code",
        "outputId": "8d35e82e-7183-4db2-ae7b-8f71cb886987",
        "colab": {
          "base_uri": "https://localhost:8080/",
          "height": 119
        }
      },
      "source": [
        "count = dataframe['satisfaction'].value_counts()\n",
        "print(count)"
      ],
      "execution_count": 0,
      "outputs": [
        {
          "output_type": "stream",
          "text": [
            "5    111550\n",
            "1    100901\n",
            "4     63158\n",
            "3     51852\n",
            "2     35342\n",
            "Name: satisfaction, dtype: int64\n"
          ],
          "name": "stdout"
        }
      ]
    },
    {
      "cell_type": "markdown",
      "metadata": {
        "id": "KUmQIdoYncZw",
        "colab_type": "text"
      },
      "source": [
        "From the above, we can see that predictions are biased towards average reviews. We can see that the dataset has more positive and negative reviews as compared to average reviews."
      ]
    }
  ]
}